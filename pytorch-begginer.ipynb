{
 "cells": [
  {
   "cell_type": "markdown",
   "id": "350e6b79",
   "metadata": {
    "papermill": {
     "duration": 0.011411,
     "end_time": "2022-11-01T15:44:36.926887",
     "exception": false,
     "start_time": "2022-11-01T15:44:36.915476",
     "status": "completed"
    },
    "tags": []
   },
   "source": [
    "This is a pytorch beginner notebook for revision purpose"
   ]
  },
  {
   "cell_type": "code",
   "execution_count": 1,
   "id": "8e3afcb8",
   "metadata": {
    "execution": {
     "iopub.execute_input": "2022-11-01T15:44:36.951539Z",
     "iopub.status.busy": "2022-11-01T15:44:36.951134Z",
     "iopub.status.idle": "2022-11-01T15:44:39.357065Z",
     "shell.execute_reply": "2022-11-01T15:44:39.355491Z"
    },
    "papermill": {
     "duration": 2.422612,
     "end_time": "2022-11-01T15:44:39.359876",
     "exception": false,
     "start_time": "2022-11-01T15:44:36.937264",
     "status": "completed"
    },
    "tags": []
   },
   "outputs": [],
   "source": [
    "import torch\n",
    "import torchvision\n",
    "from torchvision.datasets import MNIST"
   ]
  },
  {
   "cell_type": "code",
   "execution_count": 2,
   "id": "329739a1",
   "metadata": {
    "execution": {
     "iopub.execute_input": "2022-11-01T15:44:39.384837Z",
     "iopub.status.busy": "2022-11-01T15:44:39.383540Z",
     "iopub.status.idle": "2022-11-01T15:44:41.216104Z",
     "shell.execute_reply": "2022-11-01T15:44:41.214088Z"
    },
    "papermill": {
     "duration": 1.848703,
     "end_time": "2022-11-01T15:44:41.219584",
     "exception": false,
     "start_time": "2022-11-01T15:44:39.370881",
     "status": "completed"
    },
    "tags": []
   },
   "outputs": [
    {
     "name": "stdout",
     "output_type": "stream",
     "text": [
      "Downloading http://yann.lecun.com/exdb/mnist/train-images-idx3-ubyte.gz\n",
      "Downloading http://yann.lecun.com/exdb/mnist/train-images-idx3-ubyte.gz to data/MNIST/raw/train-images-idx3-ubyte.gz\n"
     ]
    },
    {
     "data": {
      "application/vnd.jupyter.widget-view+json": {
       "model_id": "5cc7cef79bc84351961897123537bad8",
       "version_major": 2,
       "version_minor": 0
      },
      "text/plain": [
       "  0%|          | 0/9912422 [00:00<?, ?it/s]"
      ]
     },
     "metadata": {},
     "output_type": "display_data"
    },
    {
     "name": "stdout",
     "output_type": "stream",
     "text": [
      "Extracting data/MNIST/raw/train-images-idx3-ubyte.gz to data/MNIST/raw\n",
      "\n",
      "Downloading http://yann.lecun.com/exdb/mnist/train-labels-idx1-ubyte.gz\n",
      "Downloading http://yann.lecun.com/exdb/mnist/train-labels-idx1-ubyte.gz to data/MNIST/raw/train-labels-idx1-ubyte.gz\n"
     ]
    },
    {
     "data": {
      "application/vnd.jupyter.widget-view+json": {
       "model_id": "b818869e96bc4c6081480a49f50a9a79",
       "version_major": 2,
       "version_minor": 0
      },
      "text/plain": [
       "  0%|          | 0/28881 [00:00<?, ?it/s]"
      ]
     },
     "metadata": {},
     "output_type": "display_data"
    },
    {
     "name": "stdout",
     "output_type": "stream",
     "text": [
      "Extracting data/MNIST/raw/train-labels-idx1-ubyte.gz to data/MNIST/raw\n",
      "\n",
      "Downloading http://yann.lecun.com/exdb/mnist/t10k-images-idx3-ubyte.gz\n",
      "Downloading http://yann.lecun.com/exdb/mnist/t10k-images-idx3-ubyte.gz to data/MNIST/raw/t10k-images-idx3-ubyte.gz\n"
     ]
    },
    {
     "data": {
      "application/vnd.jupyter.widget-view+json": {
       "model_id": "7e65624915cf46baa5c5386aadf34e40",
       "version_major": 2,
       "version_minor": 0
      },
      "text/plain": [
       "  0%|          | 0/1648877 [00:00<?, ?it/s]"
      ]
     },
     "metadata": {},
     "output_type": "display_data"
    },
    {
     "name": "stdout",
     "output_type": "stream",
     "text": [
      "Extracting data/MNIST/raw/t10k-images-idx3-ubyte.gz to data/MNIST/raw\n",
      "\n",
      "Downloading http://yann.lecun.com/exdb/mnist/t10k-labels-idx1-ubyte.gz\n",
      "Downloading http://yann.lecun.com/exdb/mnist/t10k-labels-idx1-ubyte.gz to data/MNIST/raw/t10k-labels-idx1-ubyte.gz\n"
     ]
    },
    {
     "data": {
      "application/vnd.jupyter.widget-view+json": {
       "model_id": "a89edca0e71f4cf8a020721ca324bede",
       "version_major": 2,
       "version_minor": 0
      },
      "text/plain": [
       "  0%|          | 0/4542 [00:00<?, ?it/s]"
      ]
     },
     "metadata": {},
     "output_type": "display_data"
    },
    {
     "name": "stdout",
     "output_type": "stream",
     "text": [
      "Extracting data/MNIST/raw/t10k-labels-idx1-ubyte.gz to data/MNIST/raw\n",
      "\n"
     ]
    }
   ],
   "source": [
    "dataset= MNIST(root='data/', download=True)"
   ]
  },
  {
   "cell_type": "markdown",
   "id": "7654785e",
   "metadata": {
    "execution": {
     "iopub.execute_input": "2022-11-01T12:36:50.691252Z",
     "iopub.status.busy": "2022-11-01T12:36:50.690904Z",
     "iopub.status.idle": "2022-11-01T12:36:50.698197Z",
     "shell.execute_reply": "2022-11-01T12:36:50.696622Z",
     "shell.execute_reply.started": "2022-11-01T12:36:50.691224Z"
    },
    "papermill": {
     "duration": 0.011067,
     "end_time": "2022-11-01T15:44:41.242743",
     "exception": false,
     "start_time": "2022-11-01T15:44:41.231676",
     "status": "completed"
    },
    "tags": []
   },
   "source": [
    "We have downloaded data. Now we will check the length of this data."
   ]
  },
  {
   "cell_type": "code",
   "execution_count": 3,
   "id": "2bfffc98",
   "metadata": {
    "execution": {
     "iopub.execute_input": "2022-11-01T15:44:41.267996Z",
     "iopub.status.busy": "2022-11-01T15:44:41.267611Z",
     "iopub.status.idle": "2022-11-01T15:44:41.277459Z",
     "shell.execute_reply": "2022-11-01T15:44:41.275560Z"
    },
    "papermill": {
     "duration": 0.0262,
     "end_time": "2022-11-01T15:44:41.280310",
     "exception": false,
     "start_time": "2022-11-01T15:44:41.254110",
     "status": "completed"
    },
    "tags": []
   },
   "outputs": [
    {
     "data": {
      "text/plain": [
       "60000"
      ]
     },
     "execution_count": 3,
     "metadata": {},
     "output_type": "execute_result"
    }
   ],
   "source": [
    "len(dataset)"
   ]
  },
  {
   "cell_type": "code",
   "execution_count": 4,
   "id": "e74bc6fe",
   "metadata": {
    "execution": {
     "iopub.execute_input": "2022-11-01T15:44:41.306248Z",
     "iopub.status.busy": "2022-11-01T15:44:41.305871Z",
     "iopub.status.idle": "2022-11-01T15:44:41.319567Z",
     "shell.execute_reply": "2022-11-01T15:44:41.318031Z"
    },
    "papermill": {
     "duration": 0.029745,
     "end_time": "2022-11-01T15:44:41.322108",
     "exception": false,
     "start_time": "2022-11-01T15:44:41.292363",
     "status": "completed"
    },
    "tags": []
   },
   "outputs": [
    {
     "data": {
      "text/plain": [
       "10000"
      ]
     },
     "execution_count": 4,
     "metadata": {},
     "output_type": "execute_result"
    }
   ],
   "source": [
    "test_dataset= MNIST(root='data/', train=False)\n",
    "len(test_dataset)"
   ]
  },
  {
   "cell_type": "code",
   "execution_count": 5,
   "id": "53c59618",
   "metadata": {
    "execution": {
     "iopub.execute_input": "2022-11-01T15:44:41.348699Z",
     "iopub.status.busy": "2022-11-01T15:44:41.347721Z",
     "iopub.status.idle": "2022-11-01T15:44:41.534946Z",
     "shell.execute_reply": "2022-11-01T15:44:41.532753Z"
    },
    "papermill": {
     "duration": 0.203683,
     "end_time": "2022-11-01T15:44:41.538060",
     "exception": false,
     "start_time": "2022-11-01T15:44:41.334377",
     "status": "completed"
    },
    "tags": []
   },
   "outputs": [
    {
     "name": "stdout",
     "output_type": "stream",
     "text": [
      "label: 0\n"
     ]
    },
    {
     "data": {
      "image/png": "[encoded data removed]",
      "text/plain": [
       "<Figure size 432x288 with 1 Axes>"
      ]
     },
     "metadata": {
      "needs_background": "light"
     },
     "output_type": "display_data"
    }
   ],
   "source": [
    "#Lets see our data item\n",
    "import matplotlib.pyplot as plt\n",
    "%matplotlib inline\n",
    "image,label=dataset[1]\n",
    "plt.imshow(image, cmap='gray')\n",
    "print('label:', label)"
   ]
  },
  {
   "cell_type": "markdown",
   "id": "6438345f",
   "metadata": {
    "papermill": {
     "duration": 0.012522,
     "end_time": "2022-11-01T15:44:41.562812",
     "exception": false,
     "start_time": "2022-11-01T15:44:41.550290",
     "status": "completed"
    },
    "tags": []
   },
   "source": [
    "We need to transform the images to tensor so our model can use it. For that we will use transforms from torchvision"
   ]
  },
  {
   "cell_type": "code",
   "execution_count": 6,
   "id": "86bb8562",
   "metadata": {
    "execution": {
     "iopub.execute_input": "2022-11-01T15:44:41.587752Z",
     "iopub.status.busy": "2022-11-01T15:44:41.587378Z",
     "iopub.status.idle": "2022-11-01T15:44:41.592770Z",
     "shell.execute_reply": "2022-11-01T15:44:41.591342Z"
    },
    "papermill": {
     "duration": 0.020693,
     "end_time": "2022-11-01T15:44:41.595196",
     "exception": false,
     "start_time": "2022-11-01T15:44:41.574503",
     "status": "completed"
    },
    "tags": []
   },
   "outputs": [],
   "source": [
    "import torchvision.transforms as transforms"
   ]
  },
  {
   "cell_type": "code",
   "execution_count": 7,
   "id": "8738ba7e",
   "metadata": {
    "execution": {
     "iopub.execute_input": "2022-11-01T15:44:41.620272Z",
     "iopub.status.busy": "2022-11-01T15:44:41.619925Z",
     "iopub.status.idle": "2022-11-01T15:44:41.669953Z",
     "shell.execute_reply": "2022-11-01T15:44:41.668387Z"
    },
    "papermill": {
     "duration": 0.065815,
     "end_time": "2022-11-01T15:44:41.672810",
     "exception": false,
     "start_time": "2022-11-01T15:44:41.606995",
     "status": "completed"
    },
    "tags": []
   },
   "outputs": [],
   "source": [
    "dataset=MNIST(root='data/', train=True, transform=transforms.ToTensor()) #transforming image to tensor"
   ]
  },
  {
   "cell_type": "code",
   "execution_count": 8,
   "id": "fc35a5f9",
   "metadata": {
    "execution": {
     "iopub.execute_input": "2022-11-01T15:44:41.698247Z",
     "iopub.status.busy": "2022-11-01T15:44:41.697867Z",
     "iopub.status.idle": "2022-11-01T15:44:41.705546Z",
     "shell.execute_reply": "2022-11-01T15:44:41.703991Z"
    },
    "papermill": {
     "duration": 0.023114,
     "end_time": "2022-11-01T15:44:41.708055",
     "exception": false,
     "start_time": "2022-11-01T15:44:41.684941",
     "status": "completed"
    },
    "tags": []
   },
   "outputs": [
    {
     "name": "stdout",
     "output_type": "stream",
     "text": [
      "torch.Size([1, 28, 28]) 5\n"
     ]
    }
   ],
   "source": [
    "img_tensor, label= dataset[0]\n",
    "print(img_tensor.shape, label)"
   ]
  },
  {
   "cell_type": "markdown",
   "id": "64d7e726",
   "metadata": {
    "papermill": {
     "duration": 0.011719,
     "end_time": "2022-11-01T15:44:41.732793",
     "exception": false,
     "start_time": "2022-11-01T15:44:41.721074",
     "status": "completed"
    },
    "tags": []
   },
   "source": [
    "1 is the number of channel. Images are grayscale so we have 1. Other channel is RGB. 28x28 is image size and 5 is label of the image."
   ]
  },
  {
   "cell_type": "code",
   "execution_count": 9,
   "id": "24277eae",
   "metadata": {
    "execution": {
     "iopub.execute_input": "2022-11-01T15:44:41.758014Z",
     "iopub.status.busy": "2022-11-01T15:44:41.757639Z",
     "iopub.status.idle": "2022-11-01T15:44:41.763648Z",
     "shell.execute_reply": "2022-11-01T15:44:41.761802Z"
    },
    "papermill": {
     "duration": 0.021764,
     "end_time": "2022-11-01T15:44:41.766275",
     "exception": false,
     "start_time": "2022-11-01T15:44:41.744511",
     "status": "completed"
    },
    "tags": []
   },
   "outputs": [],
   "source": [
    "import numpy as np\n",
    "#This function is to split the dataset into training and validation dataset\n",
    "def split_indices(n, val_pct):\n",
    "    n_val= int(val_pct*n)\n",
    "    idxs= np.random.permutation(n)\n",
    "    return idxs[n_val:], idxs[:n_val]"
   ]
  },
  {
   "cell_type": "code",
   "execution_count": 10,
   "id": "2f3848b6",
   "metadata": {
    "execution": {
     "iopub.execute_input": "2022-11-01T15:44:41.791895Z",
     "iopub.status.busy": "2022-11-01T15:44:41.791455Z",
     "iopub.status.idle": "2022-11-01T15:44:41.797352Z",
     "shell.execute_reply": "2022-11-01T15:44:41.796728Z"
    },
    "papermill": {
     "duration": 0.021169,
     "end_time": "2022-11-01T15:44:41.799484",
     "exception": false,
     "start_time": "2022-11-01T15:44:41.778315",
     "status": "completed"
    },
    "tags": []
   },
   "outputs": [],
   "source": [
    "train_indices, val_indices=split_indices(len(dataset), val_pct=0.2)"
   ]
  },
  {
   "cell_type": "code",
   "execution_count": 11,
   "id": "7c5501ac",
   "metadata": {
    "execution": {
     "iopub.execute_input": "2022-11-01T15:44:41.825381Z",
     "iopub.status.busy": "2022-11-01T15:44:41.824747Z",
     "iopub.status.idle": "2022-11-01T15:44:41.832075Z",
     "shell.execute_reply": "2022-11-01T15:44:41.829550Z"
    },
    "papermill": {
     "duration": 0.024383,
     "end_time": "2022-11-01T15:44:41.835893",
     "exception": false,
     "start_time": "2022-11-01T15:44:41.811510",
     "status": "completed"
    },
    "tags": []
   },
   "outputs": [
    {
     "name": "stdout",
     "output_type": "stream",
     "text": [
      "48000 12000\n"
     ]
    }
   ],
   "source": [
    "print(len(train_indices), len(val_indices))"
   ]
  },
  {
   "cell_type": "code",
   "execution_count": 12,
   "id": "9e655a63",
   "metadata": {
    "execution": {
     "iopub.execute_input": "2022-11-01T15:44:41.862285Z",
     "iopub.status.busy": "2022-11-01T15:44:41.861958Z",
     "iopub.status.idle": "2022-11-01T15:44:41.867220Z",
     "shell.execute_reply": "2022-11-01T15:44:41.865899Z"
    },
    "papermill": {
     "duration": 0.021482,
     "end_time": "2022-11-01T15:44:41.870063",
     "exception": false,
     "start_time": "2022-11-01T15:44:41.848581",
     "status": "completed"
    },
    "tags": []
   },
   "outputs": [],
   "source": [
    "from torch.utils.data.sampler import SubsetRandomSampler\n",
    "from torch.utils.data.dataloader import DataLoader"
   ]
  },
  {
   "cell_type": "code",
   "execution_count": 13,
   "id": "022d9563",
   "metadata": {
    "execution": {
     "iopub.execute_input": "2022-11-01T15:44:41.896255Z",
     "iopub.status.busy": "2022-11-01T15:44:41.895905Z",
     "iopub.status.idle": "2022-11-01T15:44:41.908605Z",
     "shell.execute_reply": "2022-11-01T15:44:41.907511Z"
    },
    "papermill": {
     "duration": 0.028377,
     "end_time": "2022-11-01T15:44:41.910656",
     "exception": false,
     "start_time": "2022-11-01T15:44:41.882279",
     "status": "completed"
    },
    "tags": []
   },
   "outputs": [
    {
     "data": {
      "text/plain": [
       "(50000, 10000)"
      ]
     },
     "execution_count": 13,
     "metadata": {},
     "output_type": "execute_result"
    }
   ],
   "source": [
    "from torch.utils.data import random_split\n",
    "\n",
    "train_ds, val_ds = random_split(dataset, [50000, 10000])\n",
    "len(train_ds), len(val_ds)"
   ]
  },
  {
   "cell_type": "code",
   "execution_count": 14,
   "id": "9a5882cd",
   "metadata": {
    "execution": {
     "iopub.execute_input": "2022-11-01T15:44:41.936921Z",
     "iopub.status.busy": "2022-11-01T15:44:41.935838Z",
     "iopub.status.idle": "2022-11-01T15:44:41.942057Z",
     "shell.execute_reply": "2022-11-01T15:44:41.940774Z"
    },
    "papermill": {
     "duration": 0.022067,
     "end_time": "2022-11-01T15:44:41.944678",
     "exception": false,
     "start_time": "2022-11-01T15:44:41.922611",
     "status": "completed"
    },
    "tags": []
   },
   "outputs": [],
   "source": [
    "batch_size = 128\n",
    "\n",
    "train_loader = DataLoader(train_ds, batch_size, shuffle=True)\n",
    "val_loader = DataLoader(val_ds, batch_size)"
   ]
  },
  {
   "cell_type": "markdown",
   "id": "682c4c06",
   "metadata": {
    "papermill": {
     "duration": 0.011725,
     "end_time": "2022-11-01T15:44:41.969434",
     "exception": false,
     "start_time": "2022-11-01T15:44:41.957709",
     "status": "completed"
    },
    "tags": []
   },
   "source": [
    "we must manually split the 60,000 images into training and validation datasets. Let's set aside 10,000 randomly chosen images for validation. We can do this using the random_spilt method from PyTorch."
   ]
  },
  {
   "cell_type": "code",
   "execution_count": 15,
   "id": "5a2dd8c0",
   "metadata": {
    "execution": {
     "iopub.execute_input": "2022-11-01T15:44:41.994728Z",
     "iopub.status.busy": "2022-11-01T15:44:41.994363Z",
     "iopub.status.idle": "2022-11-01T15:44:41.999584Z",
     "shell.execute_reply": "2022-11-01T15:44:41.998178Z"
    },
    "papermill": {
     "duration": 0.02071,
     "end_time": "2022-11-01T15:44:42.001930",
     "exception": false,
     "start_time": "2022-11-01T15:44:41.981220",
     "status": "completed"
    },
    "tags": []
   },
   "outputs": [],
   "source": [
    "import torch.nn as nn"
   ]
  },
  {
   "cell_type": "code",
   "execution_count": 16,
   "id": "5671317f",
   "metadata": {
    "execution": {
     "iopub.execute_input": "2022-11-01T15:44:42.027858Z",
     "iopub.status.busy": "2022-11-01T15:44:42.027487Z",
     "iopub.status.idle": "2022-11-01T15:44:42.036576Z",
     "shell.execute_reply": "2022-11-01T15:44:42.035375Z"
    },
    "papermill": {
     "duration": 0.024851,
     "end_time": "2022-11-01T15:44:42.038846",
     "exception": false,
     "start_time": "2022-11-01T15:44:42.013995",
     "status": "completed"
    },
    "tags": []
   },
   "outputs": [],
   "source": [
    "input_size=28*28\n",
    "num_classes= 10\n",
    "\n",
    "model=nn.Linear(input_size,num_classes)"
   ]
  },
  {
   "cell_type": "code",
   "execution_count": 17,
   "id": "458a3748",
   "metadata": {
    "execution": {
     "iopub.execute_input": "2022-11-01T15:44:42.065188Z",
     "iopub.status.busy": "2022-11-01T15:44:42.064656Z",
     "iopub.status.idle": "2022-11-01T15:44:42.075247Z",
     "shell.execute_reply": "2022-11-01T15:44:42.073972Z"
    },
    "papermill": {
     "duration": 0.026561,
     "end_time": "2022-11-01T15:44:42.077647",
     "exception": false,
     "start_time": "2022-11-01T15:44:42.051086",
     "status": "completed"
    },
    "tags": []
   },
   "outputs": [
    {
     "name": "stdout",
     "output_type": "stream",
     "text": [
      "torch.Size([10, 784])\n"
     ]
    },
    {
     "data": {
      "text/plain": [
       "Parameter containing:\n",
       "tensor([[ 0.0325,  0.0035,  0.0305,  ...,  0.0098, -0.0302, -0.0077],\n",
       "        [-0.0070, -0.0182,  0.0267,  ..., -0.0116, -0.0145,  0.0063],\n",
       "        [-0.0004,  0.0243,  0.0161,  ...,  0.0189, -0.0125,  0.0242],\n",
       "        ...,\n",
       "        [ 0.0160,  0.0323, -0.0254,  ..., -0.0244, -0.0017, -0.0267],\n",
       "        [-0.0257, -0.0274, -0.0332,  ..., -0.0062,  0.0030,  0.0105],\n",
       "        [-0.0027, -0.0209,  0.0296,  ...,  0.0201, -0.0344, -0.0254]],\n",
       "       requires_grad=True)"
      ]
     },
     "execution_count": 17,
     "metadata": {},
     "output_type": "execute_result"
    }
   ],
   "source": [
    "print(model.weight.shape)\n",
    "model.weight"
   ]
  },
  {
   "cell_type": "code",
   "execution_count": 18,
   "id": "5e7e98e9",
   "metadata": {
    "execution": {
     "iopub.execute_input": "2022-11-01T15:44:42.105235Z",
     "iopub.status.busy": "2022-11-01T15:44:42.104259Z",
     "iopub.status.idle": "2022-11-01T15:44:42.114121Z",
     "shell.execute_reply": "2022-11-01T15:44:42.112357Z"
    },
    "papermill": {
     "duration": 0.026337,
     "end_time": "2022-11-01T15:44:42.116897",
     "exception": false,
     "start_time": "2022-11-01T15:44:42.090560",
     "status": "completed"
    },
    "tags": []
   },
   "outputs": [
    {
     "name": "stdout",
     "output_type": "stream",
     "text": [
      "torch.Size([10])\n"
     ]
    },
    {
     "data": {
      "text/plain": [
       "Parameter containing:\n",
       "tensor([ 0.0055,  0.0122,  0.0080, -0.0114,  0.0350, -0.0124,  0.0103, -0.0188,\n",
       "        -0.0155,  0.0067], requires_grad=True)"
      ]
     },
     "execution_count": 18,
     "metadata": {},
     "output_type": "execute_result"
    }
   ],
   "source": [
    "print(model.bias.shape)\n",
    "model.bias"
   ]
  },
  {
   "cell_type": "code",
   "execution_count": 19,
   "id": "3a817558",
   "metadata": {
    "execution": {
     "iopub.execute_input": "2022-11-01T15:44:42.144157Z",
     "iopub.status.busy": "2022-11-01T15:44:42.143095Z",
     "iopub.status.idle": "2022-11-01T15:44:42.167081Z",
     "shell.execute_reply": "2022-11-01T15:44:42.166097Z"
    },
    "papermill": {
     "duration": 0.040344,
     "end_time": "2022-11-01T15:44:42.170086",
     "exception": false,
     "start_time": "2022-11-01T15:44:42.129742",
     "status": "completed"
    },
    "tags": []
   },
   "outputs": [
    {
     "name": "stdout",
     "output_type": "stream",
     "text": [
      "tensor([4, 3, 1, 2, 5, 5, 7, 5, 6, 5, 2, 8, 1, 2, 4, 9, 3, 6, 1, 9, 0, 6, 1, 3,\n",
      "        6, 1, 1, 4, 5, 6, 9, 3, 7, 3, 1, 1, 1, 1, 0, 2, 0, 8, 7, 4, 7, 6, 4, 1,\n",
      "        3, 4, 0, 1, 7, 1, 4, 1, 2, 1, 5, 6, 7, 7, 5, 2, 0, 6, 8, 9, 0, 2, 3, 4,\n",
      "        7, 8, 8, 2, 2, 5, 1, 2, 0, 8, 0, 5, 0, 1, 9, 1, 7, 9, 7, 4, 8, 5, 3, 9,\n",
      "        6, 4, 8, 8, 2, 2, 1, 1, 5, 0, 4, 9, 3, 8, 1, 1, 9, 8, 3, 7, 3, 0, 5, 8,\n",
      "        8, 1, 5, 5, 1, 4, 8, 2])\n",
      "torch.Size([128, 1, 28, 28])\n"
     ]
    }
   ],
   "source": [
    "for images, labels in train_loader:\n",
    "    print(labels)\n",
    "    print(images.shape)\n",
    "    #outputs = model(images)\n",
    "    #print(outputs)\n",
    "    break"
   ]
  },
  {
   "cell_type": "code",
   "execution_count": 20,
   "id": "39aedb2b",
   "metadata": {
    "execution": {
     "iopub.execute_input": "2022-11-01T15:44:42.197064Z",
     "iopub.status.busy": "2022-11-01T15:44:42.196470Z",
     "iopub.status.idle": "2022-11-01T15:44:42.203522Z",
     "shell.execute_reply": "2022-11-01T15:44:42.202304Z"
    },
    "papermill": {
     "duration": 0.023575,
     "end_time": "2022-11-01T15:44:42.206075",
     "exception": false,
     "start_time": "2022-11-01T15:44:42.182500",
     "status": "completed"
    },
    "tags": []
   },
   "outputs": [
    {
     "data": {
      "text/plain": [
       "torch.Size([128, 784])"
      ]
     },
     "execution_count": 20,
     "metadata": {},
     "output_type": "execute_result"
    }
   ],
   "source": [
    "images.reshape(128, 784).shape"
   ]
  },
  {
   "cell_type": "code",
   "execution_count": 21,
   "id": "ab3774a3",
   "metadata": {
    "execution": {
     "iopub.execute_input": "2022-11-01T15:44:42.233623Z",
     "iopub.status.busy": "2022-11-01T15:44:42.233233Z",
     "iopub.status.idle": "2022-11-01T15:44:42.240654Z",
     "shell.execute_reply": "2022-11-01T15:44:42.239415Z"
    },
    "papermill": {
     "duration": 0.023351,
     "end_time": "2022-11-01T15:44:42.242714",
     "exception": false,
     "start_time": "2022-11-01T15:44:42.219363",
     "status": "completed"
    },
    "tags": []
   },
   "outputs": [],
   "source": [
    "class MnistModel(nn.Module):\n",
    "    def __init__(self):\n",
    "        super().__init__()\n",
    "        self.linear = nn.Linear(input_size, num_classes)\n",
    "        \n",
    "    def forward(self, xb):\n",
    "        xb = xb.reshape(-1, 784)\n",
    "        out = self.linear(xb)\n",
    "        return out\n",
    "    \n",
    "model = MnistModel()"
   ]
  },
  {
   "cell_type": "markdown",
   "id": "240b38bb",
   "metadata": {
    "papermill": {
     "duration": 0.012252,
     "end_time": "2022-11-01T15:44:42.268074",
     "exception": false,
     "start_time": "2022-11-01T15:44:42.255822",
     "status": "completed"
    },
    "tags": []
   },
   "source": [
    "xb.reshape(-1, 28*28) indicates to PyTorch that we want a view of the xb tensor with two dimensions. The length along the 2nd dimension is 28*28 (i.e., 784). One argument to .reshape can be set to -1 (in this case, the first dimension) to let PyTorch figure it out automatically based on the shape of the original tensor."
   ]
  },
  {
   "cell_type": "code",
   "execution_count": 22,
   "id": "760272af",
   "metadata": {
    "execution": {
     "iopub.execute_input": "2022-11-01T15:44:42.297817Z",
     "iopub.status.busy": "2022-11-01T15:44:42.296542Z",
     "iopub.status.idle": "2022-11-01T15:44:42.305927Z",
     "shell.execute_reply": "2022-11-01T15:44:42.304253Z"
    },
    "papermill": {
     "duration": 0.025245,
     "end_time": "2022-11-01T15:44:42.307951",
     "exception": false,
     "start_time": "2022-11-01T15:44:42.282706",
     "status": "completed"
    },
    "tags": []
   },
   "outputs": [
    {
     "name": "stdout",
     "output_type": "stream",
     "text": [
      "torch.Size([10, 784]) torch.Size([10])\n"
     ]
    },
    {
     "data": {
      "text/plain": [
       "[Parameter containing:\n",
       " tensor([[-0.0061, -0.0160, -0.0320,  ..., -0.0275, -0.0252,  0.0160],\n",
       "         [ 0.0111, -0.0098,  0.0017,  ..., -0.0339, -0.0226,  0.0233],\n",
       "         [-0.0270,  0.0245,  0.0282,  ...,  0.0168,  0.0222, -0.0313],\n",
       "         ...,\n",
       "         [-0.0014,  0.0175, -0.0357,  ...,  0.0249,  0.0046,  0.0329],\n",
       "         [-0.0301,  0.0089, -0.0066,  ...,  0.0070, -0.0318,  0.0097],\n",
       "         [-0.0195, -0.0311,  0.0073,  ..., -0.0032, -0.0047,  0.0011]],\n",
       "        requires_grad=True),\n",
       " Parameter containing:\n",
       " tensor([-0.0207, -0.0282,  0.0145, -0.0229, -0.0142,  0.0101, -0.0108,  0.0210,\n",
       "         -0.0301,  0.0011], requires_grad=True)]"
      ]
     },
     "execution_count": 22,
     "metadata": {},
     "output_type": "execute_result"
    }
   ],
   "source": [
    "print(model.linear.weight.shape, model.linear.bias.shape)\n",
    "list(model.parameters())"
   ]
  },
  {
   "cell_type": "code",
   "execution_count": 23,
   "id": "16fc3d00",
   "metadata": {
    "execution": {
     "iopub.execute_input": "2022-11-01T15:44:42.334360Z",
     "iopub.status.busy": "2022-11-01T15:44:42.333830Z",
     "iopub.status.idle": "2022-11-01T15:44:42.373977Z",
     "shell.execute_reply": "2022-11-01T15:44:42.372428Z"
    },
    "papermill": {
     "duration": 0.055934,
     "end_time": "2022-11-01T15:44:42.376285",
     "exception": false,
     "start_time": "2022-11-01T15:44:42.320351",
     "status": "completed"
    },
    "tags": []
   },
   "outputs": [
    {
     "name": "stdout",
     "output_type": "stream",
     "text": [
      "torch.Size([128, 1, 28, 28])\n",
      "outputs.shape :  torch.Size([128, 10])\n",
      "Sample outputs :\n",
      " tensor([[-0.1836, -0.1989, -0.0203,  0.0160, -0.0823, -0.0761,  0.0544,  0.0059,\n",
      "         -0.1080,  0.1170],\n",
      "        [ 0.0596,  0.0640, -0.0249, -0.0829, -0.0164,  0.3794, -0.0930,  0.2669,\n",
      "          0.1506,  0.0078]])\n"
     ]
    }
   ],
   "source": [
    "for images, labels in train_loader:\n",
    "    print(images.shape)\n",
    "    outputs = model(images)\n",
    "    break\n",
    "\n",
    "print('outputs.shape : ', outputs.shape)\n",
    "print('Sample outputs :\\n', outputs[:2].data)"
   ]
  },
  {
   "cell_type": "code",
   "execution_count": 24,
   "id": "af076bb2",
   "metadata": {
    "execution": {
     "iopub.execute_input": "2022-11-01T15:44:42.403352Z",
     "iopub.status.busy": "2022-11-01T15:44:42.402980Z",
     "iopub.status.idle": "2022-11-01T15:44:42.409003Z",
     "shell.execute_reply": "2022-11-01T15:44:42.407179Z"
    },
    "papermill": {
     "duration": 0.022716,
     "end_time": "2022-11-01T15:44:42.411719",
     "exception": false,
     "start_time": "2022-11-01T15:44:42.389003",
     "status": "completed"
    },
    "tags": []
   },
   "outputs": [],
   "source": [
    "import torch.nn.functional as F"
   ]
  },
  {
   "cell_type": "code",
   "execution_count": 25,
   "id": "e85fae88",
   "metadata": {
    "execution": {
     "iopub.execute_input": "2022-11-01T15:44:42.440198Z",
     "iopub.status.busy": "2022-11-01T15:44:42.439830Z",
     "iopub.status.idle": "2022-11-01T15:44:42.448798Z",
     "shell.execute_reply": "2022-11-01T15:44:42.447458Z"
    },
    "papermill": {
     "duration": 0.025712,
     "end_time": "2022-11-01T15:44:42.451305",
     "exception": false,
     "start_time": "2022-11-01T15:44:42.425593",
     "status": "completed"
    },
    "tags": []
   },
   "outputs": [
    {
     "data": {
      "text/plain": [
       "tensor([[-0.1836, -0.1989, -0.0203,  0.0160, -0.0823, -0.0761,  0.0544,  0.0059,\n",
       "         -0.1080,  0.1170],\n",
       "        [ 0.0596,  0.0640, -0.0249, -0.0829, -0.0164,  0.3794, -0.0930,  0.2669,\n",
       "          0.1506,  0.0078]], grad_fn=<SliceBackward0>)"
      ]
     },
     "execution_count": 25,
     "metadata": {},
     "output_type": "execute_result"
    }
   ],
   "source": [
    "outputs[:2]"
   ]
  },
  {
   "cell_type": "code",
   "execution_count": 26,
   "id": "81c0bdc6",
   "metadata": {
    "execution": {
     "iopub.execute_input": "2022-11-01T15:44:42.479914Z",
     "iopub.status.busy": "2022-11-01T15:44:42.479433Z",
     "iopub.status.idle": "2022-11-01T15:44:42.489757Z",
     "shell.execute_reply": "2022-11-01T15:44:42.488094Z"
    },
    "papermill": {
     "duration": 0.028328,
     "end_time": "2022-11-01T15:44:42.493086",
     "exception": false,
     "start_time": "2022-11-01T15:44:42.464758",
     "status": "completed"
    },
    "tags": []
   },
   "outputs": [
    {
     "name": "stdout",
     "output_type": "stream",
     "text": [
      "Sample probabilities:\n",
      " tensor([[0.0869, 0.0856, 0.1023, 0.1061, 0.0961, 0.0967, 0.1102, 0.1050, 0.0937,\n",
      "         0.1174],\n",
      "        [0.0978, 0.0982, 0.0898, 0.0848, 0.0906, 0.1346, 0.0839, 0.1203, 0.1071,\n",
      "         0.0928]])\n",
      "Sum:  1.0\n"
     ]
    }
   ],
   "source": [
    "# Apply softmax for each output row\n",
    "probs = F.softmax(outputs, dim=1)\n",
    "\n",
    "# Look at sample probabilities\n",
    "print(\"Sample probabilities:\\n\", probs[:2].data)\n",
    "\n",
    "# Add up the probabilities of an output row\n",
    "print(\"Sum: \", torch.sum(probs[0]).item())"
   ]
  },
  {
   "cell_type": "code",
   "execution_count": 27,
   "id": "41230028",
   "metadata": {
    "execution": {
     "iopub.execute_input": "2022-11-01T15:44:42.522220Z",
     "iopub.status.busy": "2022-11-01T15:44:42.521871Z",
     "iopub.status.idle": "2022-11-01T15:44:42.534717Z",
     "shell.execute_reply": "2022-11-01T15:44:42.533739Z"
    },
    "papermill": {
     "duration": 0.030349,
     "end_time": "2022-11-01T15:44:42.537525",
     "exception": false,
     "start_time": "2022-11-01T15:44:42.507176",
     "status": "completed"
    },
    "tags": []
   },
   "outputs": [
    {
     "name": "stdout",
     "output_type": "stream",
     "text": [
      "tensor([9, 5, 9, 3, 4, 9, 5, 5, 3, 9, 3, 5, 9, 9, 3, 9, 5, 5, 5, 7, 5, 5, 9, 9,\n",
      "        9, 9, 9, 9, 5, 8, 7, 9, 7, 5, 5, 9, 7, 3, 7, 3, 5, 5, 5, 9, 9, 7, 9, 7,\n",
      "        5, 5, 5, 5, 9, 9, 5, 5, 7, 5, 9, 9, 5, 3, 9, 9, 9, 3, 9, 9, 9, 7, 5, 7,\n",
      "        1, 1, 5, 0, 5, 5, 7, 5, 5, 5, 5, 9, 7, 5, 9, 5, 5, 9, 9, 5, 7, 3, 7, 5,\n",
      "        3, 3, 3, 3, 9, 6, 5, 7, 5, 9, 5, 5, 5, 8, 9, 5, 7, 4, 5, 7, 4, 7, 5, 5,\n",
      "        3, 9, 9, 5, 7, 5, 9, 5])\n",
      "tensor([0.1174, 0.1346, 0.1231, 0.1428, 0.1242, 0.1439, 0.1395, 0.1320, 0.1282,\n",
      "        0.1357, 0.1251, 0.1401, 0.1266, 0.1311, 0.1448, 0.1523, 0.1340, 0.1179,\n",
      "        0.1135, 0.1203, 0.1349, 0.1330, 0.1312, 0.1191, 0.1237, 0.1250, 0.1726,\n",
      "        0.1148, 0.1349, 0.1369, 0.1386, 0.1355, 0.1229, 0.1596, 0.1353, 0.1317,\n",
      "        0.1257, 0.1314, 0.1185, 0.1385, 0.1299, 0.1387, 0.1303, 0.1256, 0.1346,\n",
      "        0.1226, 0.1425, 0.1274, 0.1221, 0.1575, 0.1536, 0.1425, 0.1309, 0.1568,\n",
      "        0.1519, 0.1224, 0.1306, 0.1394, 0.1360, 0.1109, 0.1328, 0.1489, 0.1454,\n",
      "        0.1502, 0.1309, 0.1278, 0.1120, 0.1415, 0.1255, 0.1157, 0.1369, 0.1257,\n",
      "        0.1099, 0.1183, 0.1399, 0.1187, 0.1317, 0.1841, 0.1192, 0.1338, 0.1338,\n",
      "        0.1448, 0.1540, 0.1339, 0.1406, 0.1275, 0.1195, 0.1456, 0.1448, 0.1274,\n",
      "        0.1204, 0.1230, 0.1392, 0.1116, 0.1242, 0.1396, 0.1231, 0.1117, 0.1275,\n",
      "        0.1221, 0.1515, 0.1168, 0.1400, 0.1168, 0.1278, 0.1311, 0.1278, 0.1176,\n",
      "        0.1144, 0.1356, 0.1317, 0.1332, 0.1245, 0.1260, 0.1390, 0.1184, 0.1149,\n",
      "        0.1150, 0.1212, 0.1212, 0.1395, 0.1537, 0.1370, 0.1469, 0.1372, 0.1237,\n",
      "        0.1486, 0.1489], grad_fn=<MaxBackward0>)\n"
     ]
    }
   ],
   "source": [
    "max_probs, preds = torch.max(probs, dim=1)\n",
    "print(preds)\n",
    "print(max_probs)"
   ]
  },
  {
   "cell_type": "markdown",
   "id": "ac1313fb",
   "metadata": {
    "papermill": {
     "duration": 0.013059,
     "end_time": "2022-11-01T15:44:42.564613",
     "exception": false,
     "start_time": "2022-11-01T15:44:42.551554",
     "status": "completed"
    },
    "tags": []
   },
   "source": [
    "## Evaluation Metric and Loss Function"
   ]
  },
  {
   "cell_type": "code",
   "execution_count": 28,
   "id": "3de41f99",
   "metadata": {
    "execution": {
     "iopub.execute_input": "2022-11-01T15:44:42.592926Z",
     "iopub.status.busy": "2022-11-01T15:44:42.592355Z",
     "iopub.status.idle": "2022-11-01T15:44:42.601902Z",
     "shell.execute_reply": "2022-11-01T15:44:42.600221Z"
    },
    "papermill": {
     "duration": 0.026468,
     "end_time": "2022-11-01T15:44:42.604489",
     "exception": false,
     "start_time": "2022-11-01T15:44:42.578021",
     "status": "completed"
    },
    "tags": []
   },
   "outputs": [
    {
     "data": {
      "text/plain": [
       "tensor(14)"
      ]
     },
     "execution_count": 28,
     "metadata": {},
     "output_type": "execute_result"
    }
   ],
   "source": [
    "torch.sum(preds==labels)"
   ]
  },
  {
   "cell_type": "code",
   "execution_count": 29,
   "id": "42737ced",
   "metadata": {
    "execution": {
     "iopub.execute_input": "2022-11-01T15:44:42.632699Z",
     "iopub.status.busy": "2022-11-01T15:44:42.632351Z",
     "iopub.status.idle": "2022-11-01T15:44:42.637955Z",
     "shell.execute_reply": "2022-11-01T15:44:42.636360Z"
    },
    "papermill": {
     "duration": 0.022767,
     "end_time": "2022-11-01T15:44:42.640651",
     "exception": false,
     "start_time": "2022-11-01T15:44:42.617884",
     "status": "completed"
    },
    "tags": []
   },
   "outputs": [],
   "source": [
    "def accuracy(outputs,labels):\n",
    "    _,preds= torch.max(outputs, dim=1)# torch.max returns 2 elements. \n",
    "    #The first element is the list of max values, the second element is the indices of those max values. \n",
    "    #We don't care about the first one, so we put it into a dummy variable. In Python the dummy variable is \"_\".\n",
    "    return torch.tensor(torch.sum(preds==labels).item()/len(preds))"
   ]
  },
  {
   "cell_type": "markdown",
   "id": "81de07d8",
   "metadata": {
    "papermill": {
     "duration": 0.012513,
     "end_time": "2022-11-01T15:44:42.666314",
     "exception": false,
     "start_time": "2022-11-01T15:44:42.653801",
     "status": "completed"
    },
    "tags": []
   },
   "source": [
    "Note that we don't need to apply softmax to the outputs since its results have the same relative order. This is because e^x is an increasing function, i.e., if y1 > y2, then e^y1 > e^y2. The same holds after averaging out the values to get the softmax."
   ]
  },
  {
   "cell_type": "code",
   "execution_count": 30,
   "id": "be77876d",
   "metadata": {
    "execution": {
     "iopub.execute_input": "2022-11-01T15:44:42.694508Z",
     "iopub.status.busy": "2022-11-01T15:44:42.694180Z",
     "iopub.status.idle": "2022-11-01T15:44:42.704169Z",
     "shell.execute_reply": "2022-11-01T15:44:42.702929Z"
    },
    "papermill": {
     "duration": 0.026581,
     "end_time": "2022-11-01T15:44:42.706491",
     "exception": false,
     "start_time": "2022-11-01T15:44:42.679910",
     "status": "completed"
    },
    "tags": []
   },
   "outputs": [
    {
     "data": {
      "text/plain": [
       "tensor(0.1094)"
      ]
     },
     "execution_count": 30,
     "metadata": {},
     "output_type": "execute_result"
    }
   ],
   "source": [
    "accuracy(outputs,labels)"
   ]
  },
  {
   "cell_type": "code",
   "execution_count": 31,
   "id": "57eab552",
   "metadata": {
    "execution": {
     "iopub.execute_input": "2022-11-01T15:44:42.734138Z",
     "iopub.status.busy": "2022-11-01T15:44:42.733783Z",
     "iopub.status.idle": "2022-11-01T15:44:42.739445Z",
     "shell.execute_reply": "2022-11-01T15:44:42.738371Z"
    },
    "papermill": {
     "duration": 0.021772,
     "end_time": "2022-11-01T15:44:42.741405",
     "exception": false,
     "start_time": "2022-11-01T15:44:42.719633",
     "status": "completed"
    },
    "tags": []
   },
   "outputs": [],
   "source": [
    "loss_fn=F.cross_entropy"
   ]
  },
  {
   "cell_type": "code",
   "execution_count": 32,
   "id": "d5a26544",
   "metadata": {
    "execution": {
     "iopub.execute_input": "2022-11-01T15:44:42.770142Z",
     "iopub.status.busy": "2022-11-01T15:44:42.769768Z",
     "iopub.status.idle": "2022-11-01T15:44:42.778608Z",
     "shell.execute_reply": "2022-11-01T15:44:42.777939Z"
    },
    "papermill": {
     "duration": 0.025047,
     "end_time": "2022-11-01T15:44:42.780449",
     "exception": false,
     "start_time": "2022-11-01T15:44:42.755402",
     "status": "completed"
    },
    "tags": []
   },
   "outputs": [
    {
     "name": "stdout",
     "output_type": "stream",
     "text": [
      "tensor(2.3044, grad_fn=<NllLossBackward0>)\n"
     ]
    }
   ],
   "source": [
    "#Loss for current batch of data\n",
    "loss= loss_fn(outputs,labels)\n",
    "print(loss)"
   ]
  },
  {
   "cell_type": "markdown",
   "id": "e161255d",
   "metadata": {
    "papermill": {
     "duration": 0.012623,
     "end_time": "2022-11-01T15:44:42.806335",
     "exception": false,
     "start_time": "2022-11-01T15:44:42.793712",
     "status": "completed"
    },
    "tags": []
   },
   "source": [
    "We know that cross-entropy is the negative logarithm of the predicted probability of the correct label averaged over all training samples. Therefore, one way to interpret the resulting number e.g. 2.23 is look at e^-2.23 which is around 0.1 as the predicted probability of the correct label, on average. The lower the loss, The better the model."
   ]
  },
  {
   "cell_type": "code",
   "execution_count": 33,
   "id": "eecc2a1d",
   "metadata": {
    "execution": {
     "iopub.execute_input": "2022-11-01T15:44:42.834188Z",
     "iopub.status.busy": "2022-11-01T15:44:42.833825Z",
     "iopub.status.idle": "2022-11-01T15:44:42.842441Z",
     "shell.execute_reply": "2022-11-01T15:44:42.840821Z"
    },
    "papermill": {
     "duration": 0.025422,
     "end_time": "2022-11-01T15:44:42.844873",
     "exception": false,
     "start_time": "2022-11-01T15:44:42.819451",
     "status": "completed"
    },
    "tags": []
   },
   "outputs": [],
   "source": [
    "def fit(epochs, lr, model, train_loader, val_loader, opt_func= torch.optim.SGD):\n",
    "    optimizer= opt_func(model.parameters(),lr)\n",
    "    history=[] # for recording epoch-wise results\n",
    "    \n",
    "    for epoch in range(epochs):\n",
    "        \n",
    "        #training phase\n",
    "        for batch in train_loader:\n",
    "            loss= model.training_step(batch)\n",
    "            loss.backward()\n",
    "            optimizer.step()\n",
    "            optimizer.zero_grad()\n",
    "            \n",
    "        #validation phase\n",
    "        result= evaluate(model,val_loader)\n",
    "        model.epoch_end(epoch,result)\n",
    "        history.append(result)\n",
    "        \n",
    "    return history"
   ]
  },
  {
   "cell_type": "markdown",
   "id": "9757663c",
   "metadata": {
    "papermill": {
     "duration": 0.012902,
     "end_time": "2022-11-01T15:44:42.870999",
     "exception": false,
     "start_time": "2022-11-01T15:44:42.858097",
     "status": "completed"
    },
    "tags": []
   },
   "source": [
    "The fit function records the validation loss and metric from each epoch. It returns a history of the training, useful for debugging & visualization."
   ]
  },
  {
   "cell_type": "code",
   "execution_count": 34,
   "id": "99fcc0d5",
   "metadata": {
    "execution": {
     "iopub.execute_input": "2022-11-01T15:44:42.899087Z",
     "iopub.status.busy": "2022-11-01T15:44:42.898711Z",
     "iopub.status.idle": "2022-11-01T15:44:42.904941Z",
     "shell.execute_reply": "2022-11-01T15:44:42.903405Z"
    },
    "papermill": {
     "duration": 0.023916,
     "end_time": "2022-11-01T15:44:42.908095",
     "exception": false,
     "start_time": "2022-11-01T15:44:42.884179",
     "status": "completed"
    },
    "tags": []
   },
   "outputs": [],
   "source": [
    "def evaluate(model, val_loader):\n",
    "    outputs = [model.validation_step(batch) for batch in val_loader]\n",
    "    return model.validation_epoch_end(outputs)"
   ]
  },
  {
   "cell_type": "code",
   "execution_count": 35,
   "id": "9ddb4ecf",
   "metadata": {
    "execution": {
     "iopub.execute_input": "2022-11-01T15:44:42.937020Z",
     "iopub.status.busy": "2022-11-01T15:44:42.936536Z",
     "iopub.status.idle": "2022-11-01T15:44:42.947737Z",
     "shell.execute_reply": "2022-11-01T15:44:42.946728Z"
    },
    "papermill": {
     "duration": 0.028276,
     "end_time": "2022-11-01T15:44:42.949788",
     "exception": false,
     "start_time": "2022-11-01T15:44:42.921512",
     "status": "completed"
    },
    "tags": []
   },
   "outputs": [],
   "source": [
    "class MnistModel(nn.Module):\n",
    "    def __init__(self):\n",
    "        super().__init__()\n",
    "        self.linear = nn.Linear(input_size, num_classes)\n",
    "        \n",
    "    def forward(self, xb):\n",
    "        xb = xb.reshape(-1, 784)\n",
    "        out = self.linear(xb)\n",
    "        return out\n",
    "    \n",
    "    def training_step(self, batch):\n",
    "        images, labels = batch \n",
    "        out = self(images)                  # Generate predictions\n",
    "        loss = F.cross_entropy(out, labels) # Calculate loss\n",
    "        return loss\n",
    "    \n",
    "    def validation_step(self, batch):\n",
    "        images, labels = batch \n",
    "        out = self(images)                    # Generate predictions\n",
    "        loss = F.cross_entropy(out, labels)   # Calculate loss\n",
    "        acc = accuracy(out, labels)           # Calculate accuracy\n",
    "        return {'val_loss': loss, 'val_acc': acc}\n",
    "        \n",
    "    def validation_epoch_end(self, outputs):\n",
    "        batch_losses = [x['val_loss'] for x in outputs]\n",
    "        epoch_loss = torch.stack(batch_losses).mean()   # Combine losses\n",
    "        batch_accs = [x['val_acc'] for x in outputs]\n",
    "        epoch_acc = torch.stack(batch_accs).mean()      # Combine accuracies\n",
    "        return {'val_loss': epoch_loss.item(), 'val_acc': epoch_acc.item()}\n",
    "    \n",
    "    def epoch_end(self, epoch, result):\n",
    "        print(\"Epoch [{}], val_loss: {:.4f}, val_acc: {:.4f}\".format(epoch, result['val_loss'], result['val_acc']))\n",
    "    \n",
    "model = MnistModel()"
   ]
  },
  {
   "cell_type": "code",
   "execution_count": 36,
   "id": "06dc2906",
   "metadata": {
    "execution": {
     "iopub.execute_input": "2022-11-01T15:44:42.977830Z",
     "iopub.status.busy": "2022-11-01T15:44:42.977420Z",
     "iopub.status.idle": "2022-11-01T15:44:43.880449Z",
     "shell.execute_reply": "2022-11-01T15:44:43.879036Z"
    },
    "papermill": {
     "duration": 0.919203,
     "end_time": "2022-11-01T15:44:43.882452",
     "exception": false,
     "start_time": "2022-11-01T15:44:42.963249",
     "status": "completed"
    },
    "tags": []
   },
   "outputs": [
    {
     "data": {
      "text/plain": [
       "{'val_loss': 2.31302547454834, 'val_acc': 0.11283623427152634}"
      ]
     },
     "execution_count": 36,
     "metadata": {},
     "output_type": "execute_result"
    }
   ],
   "source": [
    "result0 = evaluate(model, val_loader)\n",
    "result0"
   ]
  },
  {
   "cell_type": "code",
   "execution_count": 37,
   "id": "f105040b",
   "metadata": {
    "execution": {
     "iopub.execute_input": "2022-11-01T15:44:43.911085Z",
     "iopub.status.busy": "2022-11-01T15:44:43.910501Z",
     "iopub.status.idle": "2022-11-01T15:45:12.783448Z",
     "shell.execute_reply": "2022-11-01T15:45:12.782795Z"
    },
    "papermill": {
     "duration": 28.889571,
     "end_time": "2022-11-01T15:45:12.785611",
     "exception": false,
     "start_time": "2022-11-01T15:44:43.896040",
     "status": "completed"
    },
    "tags": []
   },
   "outputs": [
    {
     "name": "stdout",
     "output_type": "stream",
     "text": [
      "Epoch [0], val_loss: 1.9465, val_acc: 0.6373\n",
      "Epoch [1], val_loss: 1.6779, val_acc: 0.7403\n",
      "Epoch [2], val_loss: 1.4772, val_acc: 0.7763\n",
      "Epoch [3], val_loss: 1.3255, val_acc: 0.7948\n",
      "Epoch [4], val_loss: 1.2085, val_acc: 0.8089\n"
     ]
    }
   ],
   "source": [
    "history1 = fit(5, 0.001, model, train_loader, val_loader)"
   ]
  },
  {
   "cell_type": "code",
   "execution_count": 38,
   "id": "1681da66",
   "metadata": {
    "execution": {
     "iopub.execute_input": "2022-11-01T15:45:12.815442Z",
     "iopub.status.busy": "2022-11-01T15:45:12.814928Z",
     "iopub.status.idle": "2022-11-01T15:45:41.265091Z",
     "shell.execute_reply": "2022-11-01T15:45:41.263847Z"
    },
    "papermill": {
     "duration": 28.468506,
     "end_time": "2022-11-01T15:45:41.268411",
     "exception": false,
     "start_time": "2022-11-01T15:45:12.799905",
     "status": "completed"
    },
    "tags": []
   },
   "outputs": [
    {
     "name": "stdout",
     "output_type": "stream",
     "text": [
      "Epoch [0], val_loss: 1.1165, val_acc: 0.8176\n",
      "Epoch [1], val_loss: 1.0425, val_acc: 0.8241\n",
      "Epoch [2], val_loss: 0.9820, val_acc: 0.8293\n",
      "Epoch [3], val_loss: 0.9316, val_acc: 0.8338\n",
      "Epoch [4], val_loss: 0.8890, val_acc: 0.8371\n"
     ]
    }
   ],
   "source": [
    "history2 = fit(5, 0.001, model, train_loader, val_loader)"
   ]
  },
  {
   "cell_type": "code",
   "execution_count": 39,
   "id": "cde801b8",
   "metadata": {
    "execution": {
     "iopub.execute_input": "2022-11-01T15:45:41.299360Z",
     "iopub.status.busy": "2022-11-01T15:45:41.298952Z",
     "iopub.status.idle": "2022-11-01T15:46:10.155469Z",
     "shell.execute_reply": "2022-11-01T15:46:10.153818Z"
    },
    "papermill": {
     "duration": 28.874962,
     "end_time": "2022-11-01T15:46:10.157970",
     "exception": false,
     "start_time": "2022-11-01T15:45:41.283008",
     "status": "completed"
    },
    "tags": []
   },
   "outputs": [
    {
     "name": "stdout",
     "output_type": "stream",
     "text": [
      "Epoch [0], val_loss: 0.8525, val_acc: 0.8408\n",
      "Epoch [1], val_loss: 0.8209, val_acc: 0.8430\n",
      "Epoch [2], val_loss: 0.7932, val_acc: 0.8454\n",
      "Epoch [3], val_loss: 0.7688, val_acc: 0.8480\n",
      "Epoch [4], val_loss: 0.7470, val_acc: 0.8497\n"
     ]
    }
   ],
   "source": [
    "history3 = fit(5, 0.001, model, train_loader, val_loader)"
   ]
  },
  {
   "cell_type": "code",
   "execution_count": 40,
   "id": "18c178e4",
   "metadata": {
    "execution": {
     "iopub.execute_input": "2022-11-01T15:46:10.189029Z",
     "iopub.status.busy": "2022-11-01T15:46:10.187807Z",
     "iopub.status.idle": "2022-11-01T15:46:38.285207Z",
     "shell.execute_reply": "2022-11-01T15:46:38.284409Z"
    },
    "papermill": {
     "duration": 28.114608,
     "end_time": "2022-11-01T15:46:38.287092",
     "exception": false,
     "start_time": "2022-11-01T15:46:10.172484",
     "status": "completed"
    },
    "tags": []
   },
   "outputs": [
    {
     "name": "stdout",
     "output_type": "stream",
     "text": [
      "Epoch [0], val_loss: 0.7275, val_acc: 0.8521\n",
      "Epoch [1], val_loss: 0.7099, val_acc: 0.8536\n",
      "Epoch [2], val_loss: 0.6940, val_acc: 0.8564\n",
      "Epoch [3], val_loss: 0.6794, val_acc: 0.8579\n",
      "Epoch [4], val_loss: 0.6661, val_acc: 0.8602\n"
     ]
    }
   ],
   "source": [
    "history4 = fit(5, 0.001, model, train_loader, val_loader)"
   ]
  },
  {
   "cell_type": "code",
   "execution_count": 41,
   "id": "b95c9e3a",
   "metadata": {
    "execution": {
     "iopub.execute_input": "2022-11-01T15:46:38.318365Z",
     "iopub.status.busy": "2022-11-01T15:46:38.316981Z",
     "iopub.status.idle": "2022-11-01T15:46:38.490131Z",
     "shell.execute_reply": "2022-11-01T15:46:38.488538Z"
    },
    "papermill": {
     "duration": 0.191479,
     "end_time": "2022-11-01T15:46:38.492777",
     "exception": false,
     "start_time": "2022-11-01T15:46:38.301298",
     "status": "completed"
    },
    "tags": []
   },
   "outputs": [
    {
     "data": {
      "image/png": "[encoded data removed]",
      "text/plain": [
       "<Figure size 432x288 with 1 Axes>"
      ]
     },
     "metadata": {
      "needs_background": "light"
     },
     "output_type": "display_data"
    }
   ],
   "source": [
    "history = [result0] + history1 + history2 + history3 + history4\n",
    "accuracies = [result['val_acc'] for result in history]\n",
    "plt.plot(accuracies, '-x')\n",
    "plt.xlabel('epoch')\n",
    "plt.ylabel('accuracy')\n",
    "plt.title('Accuracy vs. No. of epochs');"
   ]
  },
  {
   "cell_type": "code",
   "execution_count": 42,
   "id": "26c8a55e",
   "metadata": {
    "execution": {
     "iopub.execute_input": "2022-11-01T15:46:38.524366Z",
     "iopub.status.busy": "2022-11-01T15:46:38.523996Z",
     "iopub.status.idle": "2022-11-01T15:46:38.532668Z",
     "shell.execute_reply": "2022-11-01T15:46:38.531339Z"
    },
    "papermill": {
     "duration": 0.027682,
     "end_time": "2022-11-01T15:46:38.535475",
     "exception": false,
     "start_time": "2022-11-01T15:46:38.507793",
     "status": "completed"
    },
    "tags": []
   },
   "outputs": [],
   "source": [
    "torch.save(model.state_dict(), 'mnist-logistic.pth')"
   ]
  },
  {
   "cell_type": "markdown",
   "id": "e5a85778",
   "metadata": {
    "papermill": {
     "duration": 0.014332,
     "end_time": "2022-11-01T15:46:38.564926",
     "exception": false,
     "start_time": "2022-11-01T15:46:38.550594",
     "status": "completed"
    },
    "tags": []
   },
   "source": [
    "The .state_dict method returns an OrderedDict containing all the weights and bias matrices mapped to the right attributes of the model."
   ]
  },
  {
   "cell_type": "code",
   "execution_count": 43,
   "id": "c9d6bf74",
   "metadata": {
    "execution": {
     "iopub.execute_input": "2022-11-01T15:46:38.595759Z",
     "iopub.status.busy": "2022-11-01T15:46:38.595363Z",
     "iopub.status.idle": "2022-11-01T15:46:38.605271Z",
     "shell.execute_reply": "2022-11-01T15:46:38.603970Z"
    },
    "papermill": {
     "duration": 0.028002,
     "end_time": "2022-11-01T15:46:38.607439",
     "exception": false,
     "start_time": "2022-11-01T15:46:38.579437",
     "status": "completed"
    },
    "tags": []
   },
   "outputs": [
    {
     "data": {
      "text/plain": [
       "OrderedDict([('linear.weight',\n",
       "              tensor([[-0.0019,  0.0248, -0.0072,  ..., -0.0172,  0.0182, -0.0100],\n",
       "                      [-0.0338,  0.0068,  0.0332,  ..., -0.0094,  0.0067,  0.0232],\n",
       "                      [ 0.0319,  0.0226,  0.0062,  ..., -0.0090, -0.0328, -0.0045],\n",
       "                      ...,\n",
       "                      [-0.0155,  0.0136, -0.0081,  ...,  0.0118,  0.0196, -0.0039],\n",
       "                      [-0.0276,  0.0066, -0.0099,  ...,  0.0245, -0.0338,  0.0258],\n",
       "                      [-0.0352,  0.0293,  0.0295,  ..., -0.0008, -0.0051, -0.0277]])),\n",
       "             ('linear.bias',\n",
       "              tensor([-0.0175,  0.1234, -0.0468, -0.0205,  0.0470,  0.0089, -0.0136,  0.0228,\n",
       "                      -0.0752, -0.0344]))])"
      ]
     },
     "execution_count": 43,
     "metadata": {},
     "output_type": "execute_result"
    }
   ],
   "source": [
    "model.state_dict()"
   ]
  },
  {
   "cell_type": "code",
   "execution_count": null,
   "id": "07557a39",
   "metadata": {
    "papermill": {
     "duration": 0.014257,
     "end_time": "2022-11-01T15:46:38.636658",
     "exception": false,
     "start_time": "2022-11-01T15:46:38.622401",
     "status": "completed"
    },
    "tags": []
   },
   "outputs": [],
   "source": []
  }
 ],
 "metadata": {
  "kernelspec": {
   "display_name": "Python 3",
   "language": "python",
   "name": "python3"
  },
  "language_info": {
   "codemirror_mode": {
    "name": "ipython",
    "version": 3
   },
   "file_extension": ".py",
   "mimetype": "text/x-python",
   "name": "python",
   "nbconvert_exporter": "python",
   "pygments_lexer": "ipython3",
   "version": "3.7.12"
  },
  "papermill": {
   "default_parameters": {},
   "duration": 130.69685,
   "end_time": "2022-11-01T15:46:39.574600",
   "environment_variables": {},
   "exception": null,
   "input_path": "__notebook__.ipynb",
   "output_path": "__notebook__.ipynb",
   "parameters": {},
   "start_time": "2022-11-01T15:44:28.877750",
   "version": "2.3.4"
  },
  "widgets": {
   "application/vnd.jupyter.widget-state+json": {
    "state": {
     "0076ffc4d0dc47b8b61dc80a5f3f2927": {
      "model_module": "@jupyter-widgets/base",
      "model_module_version": "1.2.0",
      "model_name": "LayoutModel",
      "state": {
       "_model_module": "@jupyter-widgets/base",
       "_model_module_version": "1.2.0",
       "_model_name": "LayoutModel",
       "_view_count": null,
       "_view_module": "@jupyter-widgets/base",
       "_view_module_version": "1.2.0",
       "_view_name": "LayoutView",
       "align_content": null,
       "align_items": null,
       "align_self": null,
       "border": null,
       "bottom": null,
       "display": null,
       "flex": null,
       "flex_flow": null,
       "grid_area": null,
       "grid_auto_columns": null,
       "grid_auto_flow": null,
       "grid_auto_rows": null,
       "grid_column": null,
       "grid_gap": null,
       "grid_row": null,
       "grid_template_areas": null,
       "grid_template_columns": null,
       "grid_template_rows": null,
       "height": null,
       "justify_content": null,
       "justify_items": null,
       "left": null,
       "margin": null,
       "max_height": null,
       "max_width": null,
       "min_height": null,
       "min_width": null,
       "object_fit": null,
       "object_position": null,
       "order": null,
       "overflow": null,
       "overflow_x": null,
       "overflow_y": null,
       "padding": null,
       "right": null,
       "top": null,
       "visibility": null,
       "width": null
      }
     },
     "0c2bc53a0c4b4f62802d703579fac80e": {
      "model_module": "@jupyter-widgets/base",
      "model_module_version": "1.2.0",
      "model_name": "LayoutModel",
      "state": {
       "_model_module": "@jupyter-widgets/base",
       "_model_module_version": "1.2.0",
       "_model_name": "LayoutModel",
       "_view_count": null,
       "_view_module": "@jupyter-widgets/base",
       "_view_module_version": "1.2.0",
       "_view_name": "LayoutView",
       "align_content": null,
       "align_items": null,
       "align_self": null,
       "border": null,
       "bottom": null,
       "display": null,
       "flex": null,
       "flex_flow": null,
       "grid_area": null,
       "grid_auto_columns": null,
       "grid_auto_flow": null,
       "grid_auto_rows": null,
       "grid_column": null,
       "grid_gap": null,
       "grid_row": null,
       "grid_template_areas": null,
       "grid_template_columns": null,
       "grid_template_rows": null,
       "height": null,
       "justify_content": null,
       "justify_items": null,
       "left": null,
       "margin": null,
       "max_height": null,
       "max_width": null,
       "min_height": null,
       "min_width": null,
       "object_fit": null,
       "object_position": null,
       "order": null,
       "overflow": null,
       "overflow_x": null,
       "overflow_y": null,
       "padding": null,
       "right": null,
       "top": null,
       "visibility": null,
       "width": null
      }
     },
     "0de31ae13985404da3bcb7aca5715c5b": {
      "model_module": "@jupyter-widgets/base",
      "model_module_version": "1.2.0",
      "model_name": "LayoutModel",
      "state": {
       "_model_module": "@jupyter-widgets/base",
       "_model_module_version": "1.2.0",
       "_model_name": "LayoutModel",
       "_view_count": null,
       "_view_module": "@jupyter-widgets/base",
       "_view_module_version": "1.2.0",
       "_view_name": "LayoutView",
       "align_content": null,
       "align_items": null,
       "align_self": null,
       "border": null,
       "bottom": null,
       "display": null,
       "flex": null,
       "flex_flow": null,
       "grid_area": null,
       "grid_auto_columns": null,
       "grid_auto_flow": null,
       "grid_auto_rows": null,
       "grid_column": null,
       "grid_gap": null,
       "grid_row": null,
       "grid_template_areas": null,
       "grid_template_columns": null,
       "grid_template_rows": null,
       "height": null,
       "justify_content": null,
       "justify_items": null,
       "left": null,
       "margin": null,
       "max_height": null,
       "max_width": null,
       "min_height": null,
       "min_width": null,
       "object_fit": null,
       "object_position": null,
       "order": null,
       "overflow": null,
       "overflow_x": null,
       "overflow_y": null,
       "padding": null,
       "right": null,
       "top": null,
       "visibility": null,
       "width": null
      }
     },
     "0fe9ed1bc5294a1baae0ee52eef1277b": {
      "model_module": "@jupyter-widgets/base",
      "model_module_version": "1.2.0",
      "model_name": "LayoutModel",
      "state": {
       "_model_module": "@jupyter-widgets/base",
       "_model_module_version": "1.2.0",
       "_model_name": "LayoutModel",
       "_view_count": null,
       "_view_module": "@jupyter-widgets/base",
       "_view_module_version": "1.2.0",
       "_view_name": "LayoutView",
       "align_content": null,
       "align_items": null,
       "align_self": null,
       "border": null,
       "bottom": null,
       "display": null,
       "flex": null,
       "flex_flow": null,
       "grid_area": null,
       "grid_auto_columns": null,
       "grid_auto_flow": null,
       "grid_auto_rows": null,
       "grid_column": null,
       "grid_gap": null,
       "grid_row": null,
       "grid_template_areas": null,
       "grid_template_columns": null,
       "grid_template_rows": null,
       "height": null,
       "justify_content": null,
       "justify_items": null,
       "left": null,
       "margin": null,
       "max_height": null,
       "max_width": null,
       "min_height": null,
       "min_width": null,
       "object_fit": null,
       "object_position": null,
       "order": null,
       "overflow": null,
       "overflow_x": null,
       "overflow_y": null,
       "padding": null,
       "right": null,
       "top": null,
       "visibility": null,
       "width": null
      }
     },
     "0ff34b4f693c4b44bd5734141cdb1c44": {
      "model_module": "@jupyter-widgets/controls",
      "model_module_version": "1.5.0",
      "model_name": "FloatProgressModel",
      "state": {
       "_dom_classes": [],
       "_model_module": "@jupyter-widgets/controls",
       "_model_module_version": "1.5.0",
       "_model_name": "FloatProgressModel",
       "_view_count": null,
       "_view_module": "@jupyter-widgets/controls",
       "_view_module_version": "1.5.0",
       "_view_name": "ProgressView",
       "bar_style": "success",
       "description": "",
       "description_tooltip": null,
       "layout": "IPY_MODEL_6750cb86b3014839b4be14e8ac8599cc",
       "max": 4542.0,
       "min": 0.0,
       "orientation": "horizontal",
       "style": "IPY_MODEL_dfa778adbc434b03a27542aef8bc30b3",
       "value": 4542.0
      }
     },
     "232041efb9c8485ba9a59f00973f755b": {
      "model_module": "@jupyter-widgets/controls",
      "model_module_version": "1.5.0",
      "model_name": "HTMLModel",
      "state": {
       "_dom_classes": [],
       "_model_module": "@jupyter-widgets/controls",
       "_model_module_version": "1.5.0",
       "_model_name": "HTMLModel",
       "_view_count": null,
       "_view_module": "@jupyter-widgets/controls",
       "_view_module_version": "1.5.0",
       "_view_name": "HTMLView",
       "description": "",
       "description_tooltip": null,
       "layout": "IPY_MODEL_60003acdbd1e4b4ab89e48e512d06586",
       "placeholder": "​",
       "style": "IPY_MODEL_93138273b0a5467ab49388f628cd910f",
       "value": ""
      }
     },
     "253a47e3e6134cd68178d96b615aea0c": {
      "model_module": "@jupyter-widgets/controls",
      "model_module_version": "1.5.0",
      "model_name": "FloatProgressModel",
      "state": {
       "_dom_classes": [],
       "_model_module": "@jupyter-widgets/controls",
       "_model_module_version": "1.5.0",
       "_model_name": "FloatProgressModel",
       "_view_count": null,
       "_view_module": "@jupyter-widgets/controls",
       "_view_module_version": "1.5.0",
       "_view_name": "ProgressView",
       "bar_style": "success",
       "description": "",
       "description_tooltip": null,
       "layout": "IPY_MODEL_361f19d957184c38b1bf57626d2c9958",
       "max": 9912422.0,
       "min": 0.0,
       "orientation": "horizontal",
       "style": "IPY_MODEL_8c40e62af9954101be343b5d141a258c",
       "value": 9912422.0
      }
     },
     "361f19d957184c38b1bf57626d2c9958": {
      "model_module": "@jupyter-widgets/base",
      "model_module_version": "1.2.0",
      "model_name": "LayoutModel",
      "state": {
       "_model_module": "@jupyter-widgets/base",
       "_model_module_version": "1.2.0",
       "_model_name": "LayoutModel",
       "_view_count": null,
       "_view_module": "@jupyter-widgets/base",
       "_view_module_version": "1.2.0",
       "_view_name": "LayoutView",
       "align_content": null,
       "align_items": null,
       "align_self": null,
       "border": null,
       "bottom": null,
       "display": null,
       "flex": null,
       "flex_flow": null,
       "grid_area": null,
       "grid_auto_columns": null,
       "grid_auto_flow": null,
       "grid_auto_rows": null,
       "grid_column": null,
       "grid_gap": null,
       "grid_row": null,
       "grid_template_areas": null,
       "grid_template_columns": null,
       "grid_template_rows": null,
       "height": null,
       "justify_content": null,
       "justify_items": null,
       "left": null,
       "margin": null,
       "max_height": null,
       "max_width": null,
       "min_height": null,
       "min_width": null,
       "object_fit": null,
       "object_position": null,
       "order": null,
       "overflow": null,
       "overflow_x": null,
       "overflow_y": null,
       "padding": null,
       "right": null,
       "top": null,
       "visibility": null,
       "width": null
      }
     },
     "3bc323405e0e46b3901fb626ca9bc454": {
      "model_module": "@jupyter-widgets/base",
      "model_module_version": "1.2.0",
      "model_name": "LayoutModel",
      "state": {
       "_model_module": "@jupyter-widgets/base",
       "_model_module_version": "1.2.0",
       "_model_name": "LayoutModel",
       "_view_count": null,
       "_view_module": "@jupyter-widgets/base",
       "_view_module_version": "1.2.0",
       "_view_name": "LayoutView",
       "align_content": null,
       "align_items": null,
       "align_self": null,
       "border": null,
       "bottom": null,
       "display": null,
       "flex": null,
       "flex_flow": null,
       "grid_area": null,
       "grid_auto_columns": null,
       "grid_auto_flow": null,
       "grid_auto_rows": null,
       "grid_column": null,
       "grid_gap": null,
       "grid_row": null,
       "grid_template_areas": null,
       "grid_template_columns": null,
       "grid_template_rows": null,
       "height": null,
       "justify_content": null,
       "justify_items": null,
       "left": null,
       "margin": null,
       "max_height": null,
       "max_width": null,
       "min_height": null,
       "min_width": null,
       "object_fit": null,
       "object_position": null,
       "order": null,
       "overflow": null,
       "overflow_x": null,
       "overflow_y": null,
       "padding": null,
       "right": null,
       "top": null,
       "visibility": null,
       "width": null
      }
     },
     "40bc66c6090c4a7bb9aa40064d0aba63": {
      "model_module": "@jupyter-widgets/controls",
      "model_module_version": "1.5.0",
      "model_name": "DescriptionStyleModel",
      "state": {
       "_model_module": "@jupyter-widgets/controls",
       "_model_module_version": "1.5.0",
       "_model_name": "DescriptionStyleModel",
       "_view_count": null,
       "_view_module": "@jupyter-widgets/base",
       "_view_module_version": "1.2.0",
       "_view_name": "StyleView",
       "description_width": ""
      }
     },
     "412c301e3582407fb522452e96af604c": {
      "model_module": "@jupyter-widgets/controls",
      "model_module_version": "1.5.0",
      "model_name": "HTMLModel",
      "state": {
       "_dom_classes": [],
       "_model_module": "@jupyter-widgets/controls",
       "_model_module_version": "1.5.0",
       "_model_name": "HTMLModel",
       "_view_count": null,
       "_view_module": "@jupyter-widgets/controls",
       "_view_module_version": "1.5.0",
       "_view_name": "HTMLView",
       "description": "",
       "description_tooltip": null,
       "layout": "IPY_MODEL_0c2bc53a0c4b4f62802d703579fac80e",
       "placeholder": "​",
       "style": "IPY_MODEL_54ea28b853224962811a2e8f072ef2c1",
       "value": ""
      }
     },
     "491caa7d18494452a8de35e4184a0b88": {
      "model_module": "@jupyter-widgets/base",
      "model_module_version": "1.2.0",
      "model_name": "LayoutModel",
      "state": {
       "_model_module": "@jupyter-widgets/base",
       "_model_module_version": "1.2.0",
       "_model_name": "LayoutModel",
       "_view_count": null,
       "_view_module": "@jupyter-widgets/base",
       "_view_module_version": "1.2.0",
       "_view_name": "LayoutView",
       "align_content": null,
       "align_items": null,
       "align_self": null,
       "border": null,
       "bottom": null,
       "display": null,
       "flex": null,
       "flex_flow": null,
       "grid_area": null,
       "grid_auto_columns": null,
       "grid_auto_flow": null,
       "grid_auto_rows": null,
       "grid_column": null,
       "grid_gap": null,
       "grid_row": null,
       "grid_template_areas": null,
       "grid_template_columns": null,
       "grid_template_rows": null,
       "height": null,
       "justify_content": null,
       "justify_items": null,
       "left": null,
       "margin": null,
       "max_height": null,
       "max_width": null,
       "min_height": null,
       "min_width": null,
       "object_fit": null,
       "object_position": null,
       "order": null,
       "overflow": null,
       "overflow_x": null,
       "overflow_y": null,
       "padding": null,
       "right": null,
       "top": null,
       "visibility": null,
       "width": null
      }
     },
     "4e05d34513424cf1b1c1f975a2003397": {
      "model_module": "@jupyter-widgets/base",
      "model_module_version": "1.2.0",
      "model_name": "LayoutModel",
      "state": {
       "_model_module": "@jupyter-widgets/base",
       "_model_module_version": "1.2.0",
       "_model_name": "LayoutModel",
       "_view_count": null,
       "_view_module": "@jupyter-widgets/base",
       "_view_module_version": "1.2.0",
       "_view_name": "LayoutView",
       "align_content": null,
       "align_items": null,
       "align_self": null,
       "border": null,
       "bottom": null,
       "display": null,
       "flex": null,
       "flex_flow": null,
       "grid_area": null,
       "grid_auto_columns": null,
       "grid_auto_flow": null,
       "grid_auto_rows": null,
       "grid_column": null,
       "grid_gap": null,
       "grid_row": null,
       "grid_template_areas": null,
       "grid_template_columns": null,
       "grid_template_rows": null,
       "height": null,
       "justify_content": null,
       "justify_items": null,
       "left": null,
       "margin": null,
       "max_height": null,
       "max_width": null,
       "min_height": null,
       "min_width": null,
       "object_fit": null,
       "object_position": null,
       "order": null,
       "overflow": null,
       "overflow_x": null,
       "overflow_y": null,
       "padding": null,
       "right": null,
       "top": null,
       "visibility": null,
       "width": null
      }
     },
     "54ea28b853224962811a2e8f072ef2c1": {
      "model_module": "@jupyter-widgets/controls",
      "model_module_version": "1.5.0",
      "model_name": "DescriptionStyleModel",
      "state": {
       "_model_module": "@jupyter-widgets/controls",
       "_model_module_version": "1.5.0",
       "_model_name": "DescriptionStyleModel",
       "_view_count": null,
       "_view_module": "@jupyter-widgets/base",
       "_view_module_version": "1.2.0",
       "_view_name": "StyleView",
       "description_width": ""
      }
     },
     "56bbd16f4cd24d17926451259e354cd9": {
      "model_module": "@jupyter-widgets/controls",
      "model_module_version": "1.5.0",
      "model_name": "HTMLModel",
      "state": {
       "_dom_classes": [],
       "_model_module": "@jupyter-widgets/controls",
       "_model_module_version": "1.5.0",
       "_model_name": "HTMLModel",
       "_view_count": null,
       "_view_module": "@jupyter-widgets/controls",
       "_view_module_version": "1.5.0",
       "_view_name": "HTMLView",
       "description": "",
       "description_tooltip": null,
       "layout": "IPY_MODEL_0fe9ed1bc5294a1baae0ee52eef1277b",
       "placeholder": "​",
       "style": "IPY_MODEL_f69362d5865b497496ef3144a519dcf7",
       "value": " 1649664/? [00:00&lt;00:00, 31186919.41it/s]"
      }
     },
     "57037a3914e745da8bd4e2f304156eff": {
      "model_module": "@jupyter-widgets/controls",
      "model_module_version": "1.5.0",
      "model_name": "HTMLModel",
      "state": {
       "_dom_classes": [],
       "_model_module": "@jupyter-widgets/controls",
       "_model_module_version": "1.5.0",
       "_model_name": "HTMLModel",
       "_view_count": null,
       "_view_module": "@jupyter-widgets/controls",
       "_view_module_version": "1.5.0",
       "_view_name": "HTMLView",
       "description": "",
       "description_tooltip": null,
       "layout": "IPY_MODEL_ed8afcb8b5ea495683abd21aab6623f8",
       "placeholder": "​",
       "style": "IPY_MODEL_91c54e346b0b4009b4588efdd69f3534",
       "value": ""
      }
     },
     "5cc7cef79bc84351961897123537bad8": {
      "model_module": "@jupyter-widgets/controls",
      "model_module_version": "1.5.0",
      "model_name": "HBoxModel",
      "state": {
       "_dom_classes": [],
       "_model_module": "@jupyter-widgets/controls",
       "_model_module_version": "1.5.0",
       "_model_name": "HBoxModel",
       "_view_count": null,
       "_view_module": "@jupyter-widgets/controls",
       "_view_module_version": "1.5.0",
       "_view_name": "HBoxView",
       "box_style": "",
       "children": [
        "IPY_MODEL_412c301e3582407fb522452e96af604c",
        "IPY_MODEL_253a47e3e6134cd68178d96b615aea0c",
        "IPY_MODEL_ec6c8ad0f7a44604bf66e0edd488a305"
       ],
       "layout": "IPY_MODEL_4e05d34513424cf1b1c1f975a2003397"
      }
     },
     "60003acdbd1e4b4ab89e48e512d06586": {
      "model_module": "@jupyter-widgets/base",
      "model_module_version": "1.2.0",
      "model_name": "LayoutModel",
      "state": {
       "_model_module": "@jupyter-widgets/base",
       "_model_module_version": "1.2.0",
       "_model_name": "LayoutModel",
       "_view_count": null,
       "_view_module": "@jupyter-widgets/base",
       "_view_module_version": "1.2.0",
       "_view_name": "LayoutView",
       "align_content": null,
       "align_items": null,
       "align_self": null,
       "border": null,
       "bottom": null,
       "display": null,
       "flex": null,
       "flex_flow": null,
       "grid_area": null,
       "grid_auto_columns": null,
       "grid_auto_flow": null,
       "grid_auto_rows": null,
       "grid_column": null,
       "grid_gap": null,
       "grid_row": null,
       "grid_template_areas": null,
       "grid_template_columns": null,
       "grid_template_rows": null,
       "height": null,
       "justify_content": null,
       "justify_items": null,
       "left": null,
       "margin": null,
       "max_height": null,
       "max_width": null,
       "min_height": null,
       "min_width": null,
       "object_fit": null,
       "object_position": null,
       "order": null,
       "overflow": null,
       "overflow_x": null,
       "overflow_y": null,
       "padding": null,
       "right": null,
       "top": null,
       "visibility": null,
       "width": null
      }
     },
     "602bb5b234e7494994fda929a379cf7e": {
      "model_module": "@jupyter-widgets/base",
      "model_module_version": "1.2.0",
      "model_name": "LayoutModel",
      "state": {
       "_model_module": "@jupyter-widgets/base",
       "_model_module_version": "1.2.0",
       "_model_name": "LayoutModel",
       "_view_count": null,
       "_view_module": "@jupyter-widgets/base",
       "_view_module_version": "1.2.0",
       "_view_name": "LayoutView",
       "align_content": null,
       "align_items": null,
       "align_self": null,
       "border": null,
       "bottom": null,
       "display": null,
       "flex": null,
       "flex_flow": null,
       "grid_area": null,
       "grid_auto_columns": null,
       "grid_auto_flow": null,
       "grid_auto_rows": null,
       "grid_column": null,
       "grid_gap": null,
       "grid_row": null,
       "grid_template_areas": null,
       "grid_template_columns": null,
       "grid_template_rows": null,
       "height": null,
       "justify_content": null,
       "justify_items": null,
       "left": null,
       "margin": null,
       "max_height": null,
       "max_width": null,
       "min_height": null,
       "min_width": null,
       "object_fit": null,
       "object_position": null,
       "order": null,
       "overflow": null,
       "overflow_x": null,
       "overflow_y": null,
       "padding": null,
       "right": null,
       "top": null,
       "visibility": null,
       "width": null
      }
     },
     "6750cb86b3014839b4be14e8ac8599cc": {
      "model_module": "@jupyter-widgets/base",
      "model_module_version": "1.2.0",
      "model_name": "LayoutModel",
      "state": {
       "_model_module": "@jupyter-widgets/base",
       "_model_module_version": "1.2.0",
       "_model_name": "LayoutModel",
       "_view_count": null,
       "_view_module": "@jupyter-widgets/base",
       "_view_module_version": "1.2.0",
       "_view_name": "LayoutView",
       "align_content": null,
       "align_items": null,
       "align_self": null,
       "border": null,
       "bottom": null,
       "display": null,
       "flex": null,
       "flex_flow": null,
       "grid_area": null,
       "grid_auto_columns": null,
       "grid_auto_flow": null,
       "grid_auto_rows": null,
       "grid_column": null,
       "grid_gap": null,
       "grid_row": null,
       "grid_template_areas": null,
       "grid_template_columns": null,
       "grid_template_rows": null,
       "height": null,
       "justify_content": null,
       "justify_items": null,
       "left": null,
       "margin": null,
       "max_height": null,
       "max_width": null,
       "min_height": null,
       "min_width": null,
       "object_fit": null,
       "object_position": null,
       "order": null,
       "overflow": null,
       "overflow_x": null,
       "overflow_y": null,
       "padding": null,
       "right": null,
       "top": null,
       "visibility": null,
       "width": null
      }
     },
     "779d259b3cd643e5936ad68d551e171a": {
      "model_module": "@jupyter-widgets/controls",
      "model_module_version": "1.5.0",
      "model_name": "FloatProgressModel",
      "state": {
       "_dom_classes": [],
       "_model_module": "@jupyter-widgets/controls",
       "_model_module_version": "1.5.0",
       "_model_name": "FloatProgressModel",
       "_view_count": null,
       "_view_module": "@jupyter-widgets/controls",
       "_view_module_version": "1.5.0",
       "_view_name": "ProgressView",
       "bar_style": "success",
       "description": "",
       "description_tooltip": null,
       "layout": "IPY_MODEL_8d98c50a29284ff99cc258d3cbc88b28",
       "max": 28881.0,
       "min": 0.0,
       "orientation": "horizontal",
       "style": "IPY_MODEL_f54448183f204fe9819ec519551cb0c1",
       "value": 28881.0
      }
     },
     "792111993ded4785bf99bcba37f7248e": {
      "model_module": "@jupyter-widgets/base",
      "model_module_version": "1.2.0",
      "model_name": "LayoutModel",
      "state": {
       "_model_module": "@jupyter-widgets/base",
       "_model_module_version": "1.2.0",
       "_model_name": "LayoutModel",
       "_view_count": null,
       "_view_module": "@jupyter-widgets/base",
       "_view_module_version": "1.2.0",
       "_view_name": "LayoutView",
       "align_content": null,
       "align_items": null,
       "align_self": null,
       "border": null,
       "bottom": null,
       "display": null,
       "flex": null,
       "flex_flow": null,
       "grid_area": null,
       "grid_auto_columns": null,
       "grid_auto_flow": null,
       "grid_auto_rows": null,
       "grid_column": null,
       "grid_gap": null,
       "grid_row": null,
       "grid_template_areas": null,
       "grid_template_columns": null,
       "grid_template_rows": null,
       "height": null,
       "justify_content": null,
       "justify_items": null,
       "left": null,
       "margin": null,
       "max_height": null,
       "max_width": null,
       "min_height": null,
       "min_width": null,
       "object_fit": null,
       "object_position": null,
       "order": null,
       "overflow": null,
       "overflow_x": null,
       "overflow_y": null,
       "padding": null,
       "right": null,
       "top": null,
       "visibility": null,
       "width": null
      }
     },
     "7e65624915cf46baa5c5386aadf34e40": {
      "model_module": "@jupyter-widgets/controls",
      "model_module_version": "1.5.0",
      "model_name": "HBoxModel",
      "state": {
       "_dom_classes": [],
       "_model_module": "@jupyter-widgets/controls",
       "_model_module_version": "1.5.0",
       "_model_name": "HBoxModel",
       "_view_count": null,
       "_view_module": "@jupyter-widgets/controls",
       "_view_module_version": "1.5.0",
       "_view_name": "HBoxView",
       "box_style": "",
       "children": [
        "IPY_MODEL_232041efb9c8485ba9a59f00973f755b",
        "IPY_MODEL_c82c84e73e524c45856baadf11720809",
        "IPY_MODEL_56bbd16f4cd24d17926451259e354cd9"
       ],
       "layout": "IPY_MODEL_602bb5b234e7494994fda929a379cf7e"
      }
     },
     "80c55cc9c99b4e4aba5e57403c224e93": {
      "model_module": "@jupyter-widgets/controls",
      "model_module_version": "1.5.0",
      "model_name": "DescriptionStyleModel",
      "state": {
       "_model_module": "@jupyter-widgets/controls",
       "_model_module_version": "1.5.0",
       "_model_name": "DescriptionStyleModel",
       "_view_count": null,
       "_view_module": "@jupyter-widgets/base",
       "_view_module_version": "1.2.0",
       "_view_name": "StyleView",
       "description_width": ""
      }
     },
     "8c40e62af9954101be343b5d141a258c": {
      "model_module": "@jupyter-widgets/controls",
      "model_module_version": "1.5.0",
      "model_name": "ProgressStyleModel",
      "state": {
       "_model_module": "@jupyter-widgets/controls",
       "_model_module_version": "1.5.0",
       "_model_name": "ProgressStyleModel",
       "_view_count": null,
       "_view_module": "@jupyter-widgets/base",
       "_view_module_version": "1.2.0",
       "_view_name": "StyleView",
       "bar_color": null,
       "description_width": ""
      }
     },
     "8c802394fb6b4adcae5fe6a53e289654": {
      "model_module": "@jupyter-widgets/controls",
      "model_module_version": "1.5.0",
      "model_name": "HTMLModel",
      "state": {
       "_dom_classes": [],
       "_model_module": "@jupyter-widgets/controls",
       "_model_module_version": "1.5.0",
       "_model_name": "HTMLModel",
       "_view_count": null,
       "_view_module": "@jupyter-widgets/controls",
       "_view_module_version": "1.5.0",
       "_view_name": "HTMLView",
       "description": "",
       "description_tooltip": null,
       "layout": "IPY_MODEL_0076ffc4d0dc47b8b61dc80a5f3f2927",
       "placeholder": "​",
       "style": "IPY_MODEL_9f510940fa234971b14791c96935fba2",
       "value": " 5120/? [00:00&lt;00:00, 178842.21it/s]"
      }
     },
     "8d98c50a29284ff99cc258d3cbc88b28": {
      "model_module": "@jupyter-widgets/base",
      "model_module_version": "1.2.0",
      "model_name": "LayoutModel",
      "state": {
       "_model_module": "@jupyter-widgets/base",
       "_model_module_version": "1.2.0",
       "_model_name": "LayoutModel",
       "_view_count": null,
       "_view_module": "@jupyter-widgets/base",
       "_view_module_version": "1.2.0",
       "_view_name": "LayoutView",
       "align_content": null,
       "align_items": null,
       "align_self": null,
       "border": null,
       "bottom": null,
       "display": null,
       "flex": null,
       "flex_flow": null,
       "grid_area": null,
       "grid_auto_columns": null,
       "grid_auto_flow": null,
       "grid_auto_rows": null,
       "grid_column": null,
       "grid_gap": null,
       "grid_row": null,
       "grid_template_areas": null,
       "grid_template_columns": null,
       "grid_template_rows": null,
       "height": null,
       "justify_content": null,
       "justify_items": null,
       "left": null,
       "margin": null,
       "max_height": null,
       "max_width": null,
       "min_height": null,
       "min_width": null,
       "object_fit": null,
       "object_position": null,
       "order": null,
       "overflow": null,
       "overflow_x": null,
       "overflow_y": null,
       "padding": null,
       "right": null,
       "top": null,
       "visibility": null,
       "width": null
      }
     },
     "91c54e346b0b4009b4588efdd69f3534": {
      "model_module": "@jupyter-widgets/controls",
      "model_module_version": "1.5.0",
      "model_name": "DescriptionStyleModel",
      "state": {
       "_model_module": "@jupyter-widgets/controls",
       "_model_module_version": "1.5.0",
       "_model_name": "DescriptionStyleModel",
       "_view_count": null,
       "_view_module": "@jupyter-widgets/base",
       "_view_module_version": "1.2.0",
       "_view_name": "StyleView",
       "description_width": ""
      }
     },
     "93138273b0a5467ab49388f628cd910f": {
      "model_module": "@jupyter-widgets/controls",
      "model_module_version": "1.5.0",
      "model_name": "DescriptionStyleModel",
      "state": {
       "_model_module": "@jupyter-widgets/controls",
       "_model_module_version": "1.5.0",
       "_model_name": "DescriptionStyleModel",
       "_view_count": null,
       "_view_module": "@jupyter-widgets/base",
       "_view_module_version": "1.2.0",
       "_view_name": "StyleView",
       "description_width": ""
      }
     },
     "9f510940fa234971b14791c96935fba2": {
      "model_module": "@jupyter-widgets/controls",
      "model_module_version": "1.5.0",
      "model_name": "DescriptionStyleModel",
      "state": {
       "_model_module": "@jupyter-widgets/controls",
       "_model_module_version": "1.5.0",
       "_model_name": "DescriptionStyleModel",
       "_view_count": null,
       "_view_module": "@jupyter-widgets/base",
       "_view_module_version": "1.2.0",
       "_view_name": "StyleView",
       "description_width": ""
      }
     },
     "a89edca0e71f4cf8a020721ca324bede": {
      "model_module": "@jupyter-widgets/controls",
      "model_module_version": "1.5.0",
      "model_name": "HBoxModel",
      "state": {
       "_dom_classes": [],
       "_model_module": "@jupyter-widgets/controls",
       "_model_module_version": "1.5.0",
       "_model_name": "HBoxModel",
       "_view_count": null,
       "_view_module": "@jupyter-widgets/controls",
       "_view_module_version": "1.5.0",
       "_view_name": "HBoxView",
       "box_style": "",
       "children": [
        "IPY_MODEL_57037a3914e745da8bd4e2f304156eff",
        "IPY_MODEL_0ff34b4f693c4b44bd5734141cdb1c44",
        "IPY_MODEL_8c802394fb6b4adcae5fe6a53e289654"
       ],
       "layout": "IPY_MODEL_792111993ded4785bf99bcba37f7248e"
      }
     },
     "b818869e96bc4c6081480a49f50a9a79": {
      "model_module": "@jupyter-widgets/controls",
      "model_module_version": "1.5.0",
      "model_name": "HBoxModel",
      "state": {
       "_dom_classes": [],
       "_model_module": "@jupyter-widgets/controls",
       "_model_module_version": "1.5.0",
       "_model_name": "HBoxModel",
       "_view_count": null,
       "_view_module": "@jupyter-widgets/controls",
       "_view_module_version": "1.5.0",
       "_view_name": "HBoxView",
       "box_style": "",
       "children": [
        "IPY_MODEL_bfc2f6090e16477daa5469f23d742384",
        "IPY_MODEL_779d259b3cd643e5936ad68d551e171a",
        "IPY_MODEL_ca36e8885cf242e5b4d0fbaef4fc975f"
       ],
       "layout": "IPY_MODEL_c94a560c7e004d0b8ba4261bb5c47b85"
      }
     },
     "bfc2f6090e16477daa5469f23d742384": {
      "model_module": "@jupyter-widgets/controls",
      "model_module_version": "1.5.0",
      "model_name": "HTMLModel",
      "state": {
       "_dom_classes": [],
       "_model_module": "@jupyter-widgets/controls",
       "_model_module_version": "1.5.0",
       "_model_name": "HTMLModel",
       "_view_count": null,
       "_view_module": "@jupyter-widgets/controls",
       "_view_module_version": "1.5.0",
       "_view_name": "HTMLView",
       "description": "",
       "description_tooltip": null,
       "layout": "IPY_MODEL_0de31ae13985404da3bcb7aca5715c5b",
       "placeholder": "​",
       "style": "IPY_MODEL_40bc66c6090c4a7bb9aa40064d0aba63",
       "value": ""
      }
     },
     "c82c84e73e524c45856baadf11720809": {
      "model_module": "@jupyter-widgets/controls",
      "model_module_version": "1.5.0",
      "model_name": "FloatProgressModel",
      "state": {
       "_dom_classes": [],
       "_model_module": "@jupyter-widgets/controls",
       "_model_module_version": "1.5.0",
       "_model_name": "FloatProgressModel",
       "_view_count": null,
       "_view_module": "@jupyter-widgets/controls",
       "_view_module_version": "1.5.0",
       "_view_name": "ProgressView",
       "bar_style": "success",
       "description": "",
       "description_tooltip": null,
       "layout": "IPY_MODEL_e066c86b3909467eb05df4c469d8943d",
       "max": 1648877.0,
       "min": 0.0,
       "orientation": "horizontal",
       "style": "IPY_MODEL_d5e47ad2108341c4accdf521ee31ed12",
       "value": 1648877.0
      }
     },
     "c94a560c7e004d0b8ba4261bb5c47b85": {
      "model_module": "@jupyter-widgets/base",
      "model_module_version": "1.2.0",
      "model_name": "LayoutModel",
      "state": {
       "_model_module": "@jupyter-widgets/base",
       "_model_module_version": "1.2.0",
       "_model_name": "LayoutModel",
       "_view_count": null,
       "_view_module": "@jupyter-widgets/base",
       "_view_module_version": "1.2.0",
       "_view_name": "LayoutView",
       "align_content": null,
       "align_items": null,
       "align_self": null,
       "border": null,
       "bottom": null,
       "display": null,
       "flex": null,
       "flex_flow": null,
       "grid_area": null,
       "grid_auto_columns": null,
       "grid_auto_flow": null,
       "grid_auto_rows": null,
       "grid_column": null,
       "grid_gap": null,
       "grid_row": null,
       "grid_template_areas": null,
       "grid_template_columns": null,
       "grid_template_rows": null,
       "height": null,
       "justify_content": null,
       "justify_items": null,
       "left": null,
       "margin": null,
       "max_height": null,
       "max_width": null,
       "min_height": null,
       "min_width": null,
       "object_fit": null,
       "object_position": null,
       "order": null,
       "overflow": null,
       "overflow_x": null,
       "overflow_y": null,
       "padding": null,
       "right": null,
       "top": null,
       "visibility": null,
       "width": null
      }
     },
     "ca36e8885cf242e5b4d0fbaef4fc975f": {
      "model_module": "@jupyter-widgets/controls",
      "model_module_version": "1.5.0",
      "model_name": "HTMLModel",
      "state": {
       "_dom_classes": [],
       "_model_module": "@jupyter-widgets/controls",
       "_model_module_version": "1.5.0",
       "_model_name": "HTMLModel",
       "_view_count": null,
       "_view_module": "@jupyter-widgets/controls",
       "_view_module_version": "1.5.0",
       "_view_name": "HTMLView",
       "description": "",
       "description_tooltip": null,
       "layout": "IPY_MODEL_491caa7d18494452a8de35e4184a0b88",
       "placeholder": "​",
       "style": "IPY_MODEL_80c55cc9c99b4e4aba5e57403c224e93",
       "value": " 29696/? [00:00&lt;00:00, 1232183.65it/s]"
      }
     },
     "d5e47ad2108341c4accdf521ee31ed12": {
      "model_module": "@jupyter-widgets/controls",
      "model_module_version": "1.5.0",
      "model_name": "ProgressStyleModel",
      "state": {
       "_model_module": "@jupyter-widgets/controls",
       "_model_module_version": "1.5.0",
       "_model_name": "ProgressStyleModel",
       "_view_count": null,
       "_view_module": "@jupyter-widgets/base",
       "_view_module_version": "1.2.0",
       "_view_name": "StyleView",
       "bar_color": null,
       "description_width": ""
      }
     },
     "dfa778adbc434b03a27542aef8bc30b3": {
      "model_module": "@jupyter-widgets/controls",
      "model_module_version": "1.5.0",
      "model_name": "ProgressStyleModel",
      "state": {
       "_model_module": "@jupyter-widgets/controls",
       "_model_module_version": "1.5.0",
       "_model_name": "ProgressStyleModel",
       "_view_count": null,
       "_view_module": "@jupyter-widgets/base",
       "_view_module_version": "1.2.0",
       "_view_name": "StyleView",
       "bar_color": null,
       "description_width": ""
      }
     },
     "e066c86b3909467eb05df4c469d8943d": {
      "model_module": "@jupyter-widgets/base",
      "model_module_version": "1.2.0",
      "model_name": "LayoutModel",
      "state": {
       "_model_module": "@jupyter-widgets/base",
       "_model_module_version": "1.2.0",
       "_model_name": "LayoutModel",
       "_view_count": null,
       "_view_module": "@jupyter-widgets/base",
       "_view_module_version": "1.2.0",
       "_view_name": "LayoutView",
       "align_content": null,
       "align_items": null,
       "align_self": null,
       "border": null,
       "bottom": null,
       "display": null,
       "flex": null,
       "flex_flow": null,
       "grid_area": null,
       "grid_auto_columns": null,
       "grid_auto_flow": null,
       "grid_auto_rows": null,
       "grid_column": null,
       "grid_gap": null,
       "grid_row": null,
       "grid_template_areas": null,
       "grid_template_columns": null,
       "grid_template_rows": null,
       "height": null,
       "justify_content": null,
       "justify_items": null,
       "left": null,
       "margin": null,
       "max_height": null,
       "max_width": null,
       "min_height": null,
       "min_width": null,
       "object_fit": null,
       "object_position": null,
       "order": null,
       "overflow": null,
       "overflow_x": null,
       "overflow_y": null,
       "padding": null,
       "right": null,
       "top": null,
       "visibility": null,
       "width": null
      }
     },
     "ec6c8ad0f7a44604bf66e0edd488a305": {
      "model_module": "@jupyter-widgets/controls",
      "model_module_version": "1.5.0",
      "model_name": "HTMLModel",
      "state": {
       "_dom_classes": [],
       "_model_module": "@jupyter-widgets/controls",
       "_model_module_version": "1.5.0",
       "_model_name": "HTMLModel",
       "_view_count": null,
       "_view_module": "@jupyter-widgets/controls",
       "_view_module_version": "1.5.0",
       "_view_name": "HTMLView",
       "description": "",
       "description_tooltip": null,
       "layout": "IPY_MODEL_3bc323405e0e46b3901fb626ca9bc454",
       "placeholder": "​",
       "style": "IPY_MODEL_ee6e12ab661c43d9b66ed0309ecfdf98",
       "value": " 9913344/? [00:00&lt;00:00, 50968004.91it/s]"
      }
     },
     "ed8afcb8b5ea495683abd21aab6623f8": {
      "model_module": "@jupyter-widgets/base",
      "model_module_version": "1.2.0",
      "model_name": "LayoutModel",
      "state": {
       "_model_module": "@jupyter-widgets/base",
       "_model_module_version": "1.2.0",
       "_model_name": "LayoutModel",
       "_view_count": null,
       "_view_module": "@jupyter-widgets/base",
       "_view_module_version": "1.2.0",
       "_view_name": "LayoutView",
       "align_content": null,
       "align_items": null,
       "align_self": null,
       "border": null,
       "bottom": null,
       "display": null,
       "flex": null,
       "flex_flow": null,
       "grid_area": null,
       "grid_auto_columns": null,
       "grid_auto_flow": null,
       "grid_auto_rows": null,
       "grid_column": null,
       "grid_gap": null,
       "grid_row": null,
       "grid_template_areas": null,
       "grid_template_columns": null,
       "grid_template_rows": null,
       "height": null,
       "justify_content": null,
       "justify_items": null,
       "left": null,
       "margin": null,
       "max_height": null,
       "max_width": null,
       "min_height": null,
       "min_width": null,
       "object_fit": null,
       "object_position": null,
       "order": null,
       "overflow": null,
       "overflow_x": null,
       "overflow_y": null,
       "padding": null,
       "right": null,
       "top": null,
       "visibility": null,
       "width": null
      }
     },
     "ee6e12ab661c43d9b66ed0309ecfdf98": {
      "model_module": "@jupyter-widgets/controls",
      "model_module_version": "1.5.0",
      "model_name": "DescriptionStyleModel",
      "state": {
       "_model_module": "@jupyter-widgets/controls",
       "_model_module_version": "1.5.0",
       "_model_name": "DescriptionStyleModel",
       "_view_count": null,
       "_view_module": "@jupyter-widgets/base",
       "_view_module_version": "1.2.0",
       "_view_name": "StyleView",
       "description_width": ""
      }
     },
     "f54448183f204fe9819ec519551cb0c1": {
      "model_module": "@jupyter-widgets/controls",
      "model_module_version": "1.5.0",
      "model_name": "ProgressStyleModel",
      "state": {
       "_model_module": "@jupyter-widgets/controls",
       "_model_module_version": "1.5.0",
       "_model_name": "ProgressStyleModel",
       "_view_count": null,
       "_view_module": "@jupyter-widgets/base",
       "_view_module_version": "1.2.0",
       "_view_name": "StyleView",
       "bar_color": null,
       "description_width": ""
      }
     },
     "f69362d5865b497496ef3144a519dcf7": {
      "model_module": "@jupyter-widgets/controls",
      "model_module_version": "1.5.0",
      "model_name": "DescriptionStyleModel",
      "state": {
       "_model_module": "@jupyter-widgets/controls",
       "_model_module_version": "1.5.0",
       "_model_name": "DescriptionStyleModel",
       "_view_count": null,
       "_view_module": "@jupyter-widgets/base",
       "_view_module_version": "1.2.0",
       "_view_name": "StyleView",
       "description_width": ""
      }
     }
    },
    "version_major": 2,
    "version_minor": 0
   }
  }
 },
 "nbformat": 4,
 "nbformat_minor": 5
}
