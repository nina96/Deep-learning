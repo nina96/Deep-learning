{
 "cells": [
  {
   "cell_type": "code",
   "execution_count": 1,
   "id": "e847e999-6770-448e-a319-c20a3b25494a",
   "metadata": {},
   "outputs": [],
   "source": [
    "import tensorflow as tf\n",
    "from tensorflow import keras \n",
    "import numpy as np\n",
    "import matplotlib.pyplot as plt\n"
   ]
  },
  {
   "cell_type": "code",
   "execution_count": 2,
   "id": "2906525d-d651-4433-b178-a0719806bbe8",
   "metadata": {},
   "outputs": [
    {
     "data": {
      "text/plain": [
       "[PhysicalDevice(name='/physical_device:CPU:0', device_type='CPU')]"
      ]
     },
     "execution_count": 2,
     "metadata": {},
     "output_type": "execute_result"
    }
   ],
   "source": [
    "tf.config.experimental.list_physical_devices()"
   ]
  },
  {
   "cell_type": "code",
   "execution_count": 3,
   "id": "be75cb40-c548-4248-ae97-0c41c6511682",
   "metadata": {},
   "outputs": [
    {
     "data": {
      "text/plain": [
       "True"
      ]
     },
     "execution_count": 3,
     "metadata": {},
     "output_type": "execute_result"
    }
   ],
   "source": [
    "tf.test.is_built_with_cuda()"
   ]
  },
  {
   "cell_type": "code",
   "execution_count": 4,
   "id": "9f3a467f-5847-4add-9019-c52f41b8804c",
   "metadata": {},
   "outputs": [
    {
     "name": "stdout",
     "output_type": "stream",
     "text": [
      "Downloading data from https://www.cs.toronto.edu/~kriz/cifar-10-python.tar.gz\n",
      "170500096/170498071 [==============================] - 366s 2us/step\n",
      "170508288/170498071 [==============================] - 366s 2us/step\n"
     ]
    }
   ],
   "source": [
    "(X_train,y_train),(X_test,y_test)= tf.keras.datasets.cifar10.load_data()"
   ]
  },
  {
   "cell_type": "code",
   "execution_count": 5,
   "id": "b1c2ae4a-b86a-4b7e-afdb-44d3b666ddae",
   "metadata": {},
   "outputs": [],
   "source": [
    "def plot_sample(index):\n",
    "    plt.figure(figsize=(10,1))\n",
    "    plt.imshow(X_train[index])"
   ]
  },
  {
   "cell_type": "code",
   "execution_count": 7,
   "id": "c49cd162-cb86-4c46-880c-4a93a21082a3",
   "metadata": {},
   "outputs": [
    {
     "data": {
      "image/png": "[encoded data removed]",
      "text/plain": [
       "<Figure size 720x72 with 1 Axes>"
      ]
     },
     "metadata": {
      "needs_background": "light"
     },
     "output_type": "display_data"
    }
   ],
   "source": [
    "plot_sample(1)"
   ]
  },
  {
   "cell_type": "code",
   "execution_count": 8,
   "id": "0af641d1-970d-45ed-97f8-d3734dc327ae",
   "metadata": {},
   "outputs": [],
   "source": [
    "#We will scale the images now since scaling help model to perform better.\n",
    "#For scaling we will simply divide the samples by 255. rgb max value is 255\n",
    "#The shape will remain same but now values will be between 0 and 1\n",
    "x_train_scaled= X_train/255\n",
    "x_test_scaled=X_test/255"
   ]
  },
  {
   "cell_type": "code",
   "execution_count": 9,
   "id": "fa634e2d-1b04-4a20-805e-55ceb85fdd5d",
   "metadata": {},
   "outputs": [
    {
     "data": {
      "text/plain": [
       "array([[0., 0., 0., 0., 0., 0., 1., 0., 0., 0.],\n",
       "       [0., 0., 0., 0., 0., 0., 0., 0., 0., 1.],\n",
       "       [0., 0., 0., 0., 0., 0., 0., 0., 0., 1.],\n",
       "       [0., 0., 0., 0., 1., 0., 0., 0., 0., 0.],\n",
       "       [0., 1., 0., 0., 0., 0., 0., 0., 0., 0.]], dtype=float32)"
      ]
     },
     "execution_count": 9,
     "metadata": {},
     "output_type": "execute_result"
    }
   ],
   "source": [
    "#We will do one hot encoding by using keras .utils\n",
    "y_train_categorical= keras.utils.to_categorical( y_train, num_classes=10, dtype='float32')\n",
    "y_test_categorical= keras.utils.to_categorical( y_test, num_classes=10, dtype='float32')\n",
    "\n",
    "y_train_categorical[:5]"
   ]
  },
  {
   "cell_type": "code",
   "execution_count": 10,
   "id": "9f03d957-5430-4a96-b413-ec7a48a4fb45",
   "metadata": {},
   "outputs": [
    {
     "name": "stdout",
     "output_type": "stream",
     "text": [
      "Epoch 1/50\n",
      "1563/1563 [==============================] - 141s 90ms/step - loss: 1.5405 - accuracy: 0.4576\n",
      "Epoch 4/50\n",
      "1563/1563 [==============================] - 136s 87ms/step - loss: 1.4803 - accuracy: 0.4795\n",
      "Epoch 5/50\n",
      "1563/1563 [==============================] - 137s 88ms/step - loss: 1.4328 - accuracy: 0.4950\n",
      "Epoch 6/50\n",
      "1563/1563 [==============================] - 140s 89ms/step - loss: 1.2525 - accuracy: 0.5593\n",
      "Epoch 11/50\n",
      "1563/1563 [==============================] - 142s 91ms/step - loss: 1.2244 - accuracy: 0.5707\n",
      "Epoch 12/50\n",
      "1563/1563 [==============================] - 151s 97ms/step - loss: 1.1946 - accuracy: 0.5820\n",
      "Epoch 13/50\n",
      "1563/1563 [==============================] - 159s 102ms/step - loss: 1.1133 - accuracy: 0.6100\n",
      "Epoch 16/50\n",
      "1563/1563 [==============================] - 154s 99ms/step - loss: 1.0863 - accuracy: 0.6179\n",
      "Epoch 17/50\n",
      "1563/1563 [==============================] - 166s 106ms/step - loss: 1.0124 - accuracy: 0.6462\n",
      "Epoch 20/50\n",
      "1563/1563 [==============================] - 167s 107ms/step - loss: 0.9855 - accuracy: 0.6570\n",
      "Epoch 21/50\n",
      "1563/1563 [==============================] - 189s 121ms/step - loss: 0.9563 - accuracy: 0.6704\n",
      "Epoch 22/50\n",
      "1563/1563 [==============================] - 151s 97ms/step - loss: 0.8825 - accuracy: 0.6944\n",
      "Epoch 25/50\n",
      "1563/1563 [==============================] - 165s 105ms/step - loss: 0.8584 - accuracy: 0.7038\n",
      "Epoch 26/50\n",
      "1563/1563 [==============================] - 168s 108ms/step - loss: 0.7811 - accuracy: 0.7307\n",
      "Epoch 29/50\n",
      "1563/1563 [==============================] - 161s 103ms/step - loss: 0.6815 - accuracy: 0.7697\n",
      "Epoch 33/50\n",
      "1563/1563 [==============================] - 142s 91ms/step - loss: 0.6588 - accuracy: 0.7772\n",
      "Epoch 34/50\n",
      "1563/1563 [==============================] - 149s 95ms/step - loss: 0.6097 - accuracy: 0.7958\n",
      "Epoch 36/50\n",
      "1563/1563 [==============================] - 141s 90ms/step - loss: 0.5861 - accuracy: 0.8028\n",
      "Epoch 37/50\n",
      "1563/1563 [==============================] - 166s 106ms/step - loss: 0.4924 - accuracy: 0.8393\n",
      "Epoch 41/50\n",
      "1563/1563 [==============================] - 150s 96ms/step - loss: 0.4692 - accuracy: 0.8461\n",
      "Epoch 42/50\n",
      "1563/1563 [==============================] - 3609s 2s/step - loss: 0.4476 - accuracy: 0.8537\n",
      "Epoch 43/50\n",
      "1563/1563 [==============================] - 138s 88ms/step - loss: 0.4261 - accuracy: 0.8640\n",
      "Epoch 44/50\n",
      "1563/1563 [==============================] - 145s 93ms/step - loss: 0.4046 - accuracy: 0.8704\n",
      "Epoch 45/50\n",
      "1563/1563 [==============================] - 171s 109ms/step - loss: 0.3850 - accuracy: 0.8788\n",
      "Epoch 46/50\n",
      "1563/1563 [==============================] - 147s 94ms/step - loss: 0.3673 - accuracy: 0.8840\n",
      "Epoch 47/50\n",
      "1563/1563 [==============================] - 183s 117ms/step - loss: 0.3495 - accuracy: 0.8907\n",
      "Epoch 48/50\n",
      "1563/1563 [==============================] - 152s 97ms/step - loss: 0.3324 - accuracy: 0.8979\n",
      "Epoch 49/50\n",
      "1563/1563 [==============================] - 153s 98ms/step - loss: 0.3061 - accuracy: 0.9078\n",
      "Epoch 50/50\n",
      "1563/1563 [==============================] - 147s 94ms/step - loss: 0.2970 - accuracy: 0.9102\n"
     ]
    },
    {
     "data": {
      "text/plain": [
       "<keras.callbacks.History at 0x12a8ec69e20>"
      ]
     },
     "execution_count": 10,
     "metadata": {},
     "output_type": "execute_result"
    }
   ],
   "source": [
    "#now we build model\n",
    "model= keras.Sequential([\n",
    "    keras.layers.Flatten(input_shape=(32,32,3)),\n",
    "    keras.layers.Dense(3000, activation='relu'),\n",
    "    keras.layers.Dense(1000, activation='relu'),\n",
    "    #we will use 10 neurons cuz of 10 classes\n",
    "    keras.layers.Dense(10, activation='sigmoid')#sigmoid is good with classification\n",
    "])\n",
    "\n",
    "model.compile(optimizer='SGD',\n",
    "             loss='categorical_crossentropy', #we are using one hot encoding in y_train thats y we are using this loss if we had y_train in original then sparse\n",
    "             metrics=['accuracy'])\n",
    "model.fit(x_train_scaled,y_train_categorical, epochs=50)"
   ]
  },
  {
   "cell_type": "code",
   "execution_count": 18,
   "id": "8e90e7b0-7b1f-4ec5-a081-c0636e8a32de",
   "metadata": {},
   "outputs": [
    {
     "data": {
      "text/plain": [
       "'ship'"
      ]
     },
     "execution_count": 18,
     "metadata": {},
     "output_type": "execute_result"
    }
   ],
   "source": [
    "classes = [\"airplane\",\"automobile\",\"bird\",\"cat\",\"deer\",\"dog\",\"frog\",\"horse\",\"ship\",\"truck\"]\n",
    "classes[np.argmax(model.predict(x_test_scaled)[1])]"
   ]
  },
  {
   "cell_type": "code",
   "execution_count": 17,
   "id": "ccaed462-b952-45cf-bd2d-fff649235c89",
   "metadata": {},
   "outputs": [
    {
     "data": {
      "text/plain": [
       "'ship'"
      ]
     },
     "execution_count": 17,
     "metadata": {},
     "output_type": "execute_result"
    }
   ],
   "source": [
    "classes[y_test[1][0]]"
   ]
  },
  {
   "cell_type": "code",
   "execution_count": null,
   "id": "98678555-14df-410f-b2f3-7942d0ba0c8f",
   "metadata": {},
   "outputs": [],
   "source": []
  }
 ],
 "metadata": {
  "kernelspec": {
   "display_name": "Python 3 (ipykernel)",
   "language": "python",
   "name": "python3"
  },
  "language_info": {
   "codemirror_mode": {
    "name": "ipython",
    "version": 3
   },
   "file_extension": ".py",
   "mimetype": "text/x-python",
   "name": "python",
   "nbconvert_exporter": "python",
   "pygments_lexer": "ipython3",
   "version": "3.9.7"
  }
 },
 "nbformat": 4,
 "nbformat_minor": 5
}
