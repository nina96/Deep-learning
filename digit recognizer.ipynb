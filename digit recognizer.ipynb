{
 "cells": [
  {
   "cell_type": "code",
   "execution_count": 21,
   "id": "52ceb949-f305-44b7-ac19-825b2b19528b",
   "metadata": {},
   "outputs": [],
   "source": [
    "import tensorflow as tf\n",
    "import numpy as np\n",
    "from tensorflow import keras\n",
    "import matplotlib.pyplot as plt\n",
    "import pandas as pd\n",
    "import datetime\n",
    "%matplotlib inline"
   ]
  },
  {
   "cell_type": "code",
   "execution_count": 22,
   "id": "f9393131-9865-4c5a-b3cf-00c82f9e4e55",
   "metadata": {},
   "outputs": [],
   "source": [
    "df_train=pd.read_csv('train.csv')\n",
    "df_test=pd.read_csv('test.csv')\n"
   ]
  },
  {
   "cell_type": "code",
   "execution_count": 23,
   "id": "f4cca79f-b8cd-4569-80aa-8fbc26b04c49",
   "metadata": {},
   "outputs": [
    {
     "data": {
      "text/plain": [
       "(42000, 785)"
      ]
     },
     "execution_count": 23,
     "metadata": {},
     "output_type": "execute_result"
    }
   ],
   "source": [
    "df_train.shape"
   ]
  },
  {
   "cell_type": "code",
   "execution_count": 24,
   "id": "f6e7f0b5-c70f-48c9-8799-38fece11059b",
   "metadata": {},
   "outputs": [],
   "source": [
    "feature= df_train.drop('label', axis=1)\n",
    "target= df_train.label"
   ]
  },
  {
   "cell_type": "code",
   "execution_count": 25,
   "id": "2c97ec75-31de-49b0-8333-16c854297749",
   "metadata": {},
   "outputs": [
    {
     "data": {
      "text/plain": [
       "(28000, 784)"
      ]
     },
     "execution_count": 25,
     "metadata": {},
     "output_type": "execute_result"
    }
   ],
   "source": [
    "df_test.shape"
   ]
  },
  {
   "cell_type": "code",
   "execution_count": 26,
   "id": "73b626d2-8875-4357-9cbc-46d3cb37cdf6",
   "metadata": {},
   "outputs": [],
   "source": [
    "from sklearn.model_selection import train_test_split\n",
    "\n",
    "x_train,x_test,y_train,y_test=train_test_split(feature, target)\n",
    "x_train=x_train/255\n",
    "x_test=x_test/255\n",
    "df_test=df_test/255"
   ]
  },
  {
   "cell_type": "code",
   "execution_count": 27,
   "id": "b88c63c7-7ae7-480a-a558-3cec8df67bd0",
   "metadata": {},
   "outputs": [
    {
     "name": "stdout",
     "output_type": "stream",
     "text": [
      "Epoch 1/5\n",
      "985/985 [==============================] - 20s 12ms/step - loss: 0.8229 - accuracy: 0.8025\n",
      "Epoch 2/5\n",
      "985/985 [==============================] - 9s 9ms/step - loss: 0.3981 - accuracy: 0.8927\n",
      "Epoch 3/5\n",
      "985/985 [==============================] - 6s 6ms/step - loss: 0.3353 - accuracy: 0.9069\n",
      "Epoch 4/5\n",
      "985/985 [==============================] - 3s 4ms/step - loss: 0.3025 - accuracy: 0.9152\n",
      "Epoch 5/5\n",
      "985/985 [==============================] - 3s 3ms/step - loss: 0.2795 - accuracy: 0.9219\n"
     ]
    },
    {
     "data": {
      "text/plain": [
       "<keras.callbacks.History at 0x1ac234c1310>"
      ]
     },
     "execution_count": 27,
     "metadata": {},
     "output_type": "execute_result"
    }
   ],
   "source": [
    "model= keras.Sequential([\n",
    "    keras.layers.Dense(200,activation='relu'),\n",
    "    keras.layers.Dense(10,activation='sigmoid')   \n",
    "])\n",
    "log_dir = \"logs/fit/\" + datetime.datetime.now().strftime(\"%Y%m%d-%H%M%S\")\n",
    "tb_callback = tf.keras.callbacks.TensorBoard(log_dir=log_dir, histogram_freq=1)\n",
    "model.compile(optimizer='SGD',\n",
    "              loss='SparseCategoricalCrossentropy',\n",
    "              metrics=['accuracy']\n",
    "             )\n",
    "model.fit(x_train,y_train, epochs=5, callbacks=[tb_callback])"
   ]
  },
  {
   "cell_type": "code",
   "execution_count": null,
   "id": "f086870f-f23e-4508-ba9f-5e86e9fc2dc4",
   "metadata": {},
   "outputs": [],
   "source": [
    "!tensorboard --logdir logs/fit"
   ]
  },
  {
   "cell_type": "code",
   "execution_count": 28,
   "id": "b76aacb5-335b-4dfe-95b3-faccfa17f957",
   "metadata": {},
   "outputs": [
    {
     "name": "stdout",
     "output_type": "stream",
     "text": [
      "329/329 [==============================] - 9s 3ms/step - loss: 0.2831 - accuracy: 0.9196\n"
     ]
    },
    {
     "data": {
      "text/plain": [
       "[0.2831166386604309, 0.9196190237998962]"
      ]
     },
     "execution_count": 28,
     "metadata": {},
     "output_type": "execute_result"
    }
   ],
   "source": [
    "model.evaluate(x_test,y_test)"
   ]
  },
  {
   "cell_type": "code",
   "execution_count": 29,
   "id": "75893eb4-e145-4eb2-8a7b-713aea76a477",
   "metadata": {},
   "outputs": [],
   "source": [
    "y_predict=model.predict(x_test)"
   ]
  },
  {
   "cell_type": "code",
   "execution_count": 30,
   "id": "e4da2164-f89d-4aba-bf00-aad422ea31d1",
   "metadata": {},
   "outputs": [],
   "source": [
    "test_predict=model.predict(df_test)"
   ]
  },
  {
   "cell_type": "code",
   "execution_count": 31,
   "id": "74a5b0a1-8903-4bbe-9a74-4d39289fee09",
   "metadata": {},
   "outputs": [],
   "source": [
    "predict=np.argmax(test_predict, axis=1)"
   ]
  },
  {
   "cell_type": "code",
   "execution_count": 32,
   "id": "8ce04da8-778c-4ef9-adea-26d9f407ebaa",
   "metadata": {},
   "outputs": [],
   "source": [
    "submission=pd.read_csv('sample_submission.csv')\n",
    "submission['Label']=predict\n",
    "submission.to_csv('submission2.csv', index=False)"
   ]
  },
  {
   "cell_type": "code",
   "execution_count": null,
   "id": "26fa350b-4295-4cf8-996f-c891852d66ad",
   "metadata": {},
   "outputs": [],
   "source": []
  }
 ],
 "metadata": {
  "kernelspec": {
   "display_name": "Python 3 (ipykernel)",
   "language": "python",
   "name": "python3"
  },
  "language_info": {
   "codemirror_mode": {
    "name": "ipython",
    "version": 3
   },
   "file_extension": ".py",
   "mimetype": "text/x-python",
   "name": "python",
   "nbconvert_exporter": "python",
   "pygments_lexer": "ipython3",
   "version": "3.9.7"
  }
 },
 "nbformat": 4,
 "nbformat_minor": 5
}
